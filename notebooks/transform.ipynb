{
 "cells": [
  {
   "cell_type": "markdown",
   "id": "a42c28ac",
   "metadata": {},
   "source": [
    "## Setup Python Path\n",
    "\n",
    "This cell adds the `scripts` directory to the Python path so we can import our custom Telegram loader module. This allows us to use the `TelegramMessageLoader` class we created."
   ]
  },
  {
   "cell_type": "code",
   "execution_count": 1,
   "id": "a3b1328e",
   "metadata": {},
   "outputs": [],
   "source": [
    "import sys\n",
    "import os\n",
    "from pathlib import Path\n",
    "\n",
    "# Add the scripts directory to the path so we can import our loader\n",
    "sys.path.append(str(Path.cwd() / \"scripts\"))"
   ]
  },
  {
   "cell_type": "markdown",
   "id": "888bb6c9",
   "metadata": {},
   "source": [
    "## Environment Configuration\n",
    "\n",
    "This cell loads the database credentials and configuration from your `.env` file. Make sure your `.env` file contains the correct PostgreSQL connection details for the `telegram_medical` database."
   ]
  },
  {
   "cell_type": "code",
   "execution_count": 2,
   "id": "88835978",
   "metadata": {},
   "outputs": [
    {
     "data": {
      "text/plain": [
       "False"
      ]
     },
     "execution_count": 2,
     "metadata": {},
     "output_type": "execute_result"
    }
   ],
   "source": [
    "# If your .env is in the project root, this will load it\n",
    "from dotenv import load_dotenv\n",
    "\n",
    "load_dotenv(dotenv_path=Path.cwd() / \".env\")"
   ]
  },
  {
   "cell_type": "markdown",
   "id": "d084084b",
   "metadata": {},
   "source": [
    "## Import Custom Loader\n",
    "\n",
    "This cell dynamically imports our `TelegramMessageLoader` class from the `load_telegram_messages.py` script. This allows us to use the loader functionality directly in the notebook."
   ]
  },
  {
   "cell_type": "code",
   "execution_count": 3,
   "id": "c1e59988",
   "metadata": {},
   "outputs": [],
   "source": [
    "import importlib.util\n",
    "from pathlib import Path\n",
    "\n",
    "# If running from notebooks/ directory, go up one level to find scripts/\n",
    "loader_path = Path.cwd().parent / \"scripts\" / \"load_telegram_messages.py\"\n",
    "spec = importlib.util.spec_from_file_location(\"telegram_loader\", loader_path)\n",
    "telegram_loader = importlib.util.module_from_spec(spec)\n",
    "spec.loader.exec_module(telegram_loader)"
   ]
  },
  {
   "cell_type": "markdown",
   "id": "ccebc12e",
   "metadata": {},
   "source": [
    "## Initialize Database Loader\n",
    "\n",
    "This cell creates an instance of the `TelegramMessageLoader` class. The loader will:\n",
    "- Connect to your PostgreSQL database\n",
    "- Create the `raw.telegram_messages` table if it doesn't exist\n",
    "- Set up the database schema and constraints"
   ]
  },
  {
   "cell_type": "code",
   "execution_count": 4,
   "id": "e6f11529",
   "metadata": {},
   "outputs": [
    {
     "name": "stderr",
     "output_type": "stream",
     "text": [
      "2025-07-15 01:12:53,369 - ERROR - Failed to connect to database: No module named 'psycopg2'\n"
     ]
    },
    {
     "ename": "ModuleNotFoundError",
     "evalue": "No module named 'psycopg2'",
     "output_type": "error",
     "traceback": [
      "\u001b[31m---------------------------------------------------------------------------\u001b[39m",
      "\u001b[31mModuleNotFoundError\u001b[39m                       Traceback (most recent call last)",
      "\u001b[36mCell\u001b[39m\u001b[36m \u001b[39m\u001b[32mIn[4]\u001b[39m\u001b[32m, line 2\u001b[39m\n\u001b[32m      1\u001b[39m \u001b[38;5;66;03m# Create an instance of the loader\u001b[39;00m\n\u001b[32m----> \u001b[39m\u001b[32m2\u001b[39m loader = \u001b[43mtelegram_loader\u001b[49m\u001b[43m.\u001b[49m\u001b[43mTelegramMessageLoader\u001b[49m\u001b[43m(\u001b[49m\u001b[43m)\u001b[49m\n",
      "\u001b[36mFile \u001b[39m\u001b[32mc:\\Users\\Admin\\OneDrive\\ACADEMIA\\10 Academy\\Week 7\\GitHub Repository\\telegram-medical-data-pipeline\\scripts\\load_telegram_messages.py:49\u001b[39m, in \u001b[36mTelegramMessageLoader.__init__\u001b[39m\u001b[34m(self)\u001b[39m\n\u001b[32m     47\u001b[39m \u001b[38;5;28mself\u001b[39m.engine = \u001b[38;5;28;01mNone\u001b[39;00m\n\u001b[32m     48\u001b[39m \u001b[38;5;28mself\u001b[39m.metadata = MetaData()\n\u001b[32m---> \u001b[39m\u001b[32m49\u001b[39m \u001b[38;5;28;43mself\u001b[39;49m\u001b[43m.\u001b[49m\u001b[43msetup_database_connection\u001b[49m\u001b[43m(\u001b[49m\u001b[43m)\u001b[49m\n\u001b[32m     50\u001b[39m \u001b[38;5;28mself\u001b[39m.create_table_if_not_exists()\n",
      "\u001b[36mFile \u001b[39m\u001b[32mc:\\Users\\Admin\\OneDrive\\ACADEMIA\\10 Academy\\Week 7\\GitHub Repository\\telegram-medical-data-pipeline\\scripts\\load_telegram_messages.py:66\u001b[39m, in \u001b[36mTelegramMessageLoader.setup_database_connection\u001b[39m\u001b[34m(self)\u001b[39m\n\u001b[32m     63\u001b[39m database_url = \u001b[33mf\u001b[39m\u001b[33m\"\u001b[39m\u001b[33mpostgresql://\u001b[39m\u001b[38;5;132;01m{\u001b[39;00mdb_user\u001b[38;5;132;01m}\u001b[39;00m\u001b[33m:\u001b[39m\u001b[38;5;132;01m{\u001b[39;00mdb_password\u001b[38;5;132;01m}\u001b[39;00m\u001b[33m@\u001b[39m\u001b[38;5;132;01m{\u001b[39;00mdb_host\u001b[38;5;132;01m}\u001b[39;00m\u001b[33m:\u001b[39m\u001b[38;5;132;01m{\u001b[39;00mdb_port\u001b[38;5;132;01m}\u001b[39;00m\u001b[33m/\u001b[39m\u001b[38;5;132;01m{\u001b[39;00mdb_name\u001b[38;5;132;01m}\u001b[39;00m\u001b[33m\"\u001b[39m\n\u001b[32m     65\u001b[39m \u001b[38;5;66;03m# Create SQLAlchemy engine\u001b[39;00m\n\u001b[32m---> \u001b[39m\u001b[32m66\u001b[39m \u001b[38;5;28mself\u001b[39m.engine = \u001b[43mcreate_engine\u001b[49m\u001b[43m(\u001b[49m\u001b[43mdatabase_url\u001b[49m\u001b[43m,\u001b[49m\u001b[43m \u001b[49m\u001b[43mecho\u001b[49m\u001b[43m=\u001b[49m\u001b[38;5;28;43;01mFalse\u001b[39;49;00m\u001b[43m)\u001b[49m\n\u001b[32m     68\u001b[39m \u001b[38;5;66;03m# Test connection\u001b[39;00m\n\u001b[32m     69\u001b[39m \u001b[38;5;28;01mwith\u001b[39;00m \u001b[38;5;28mself\u001b[39m.engine.connect() \u001b[38;5;28;01mas\u001b[39;00m conn:\n",
      "\u001b[36mFile \u001b[39m\u001b[32m<string>:2\u001b[39m, in \u001b[36mcreate_engine\u001b[39m\u001b[34m(url, **kwargs)\u001b[39m\n",
      "\u001b[36mFile \u001b[39m\u001b[32mc:\\Users\\Admin\\OneDrive\\ACADEMIA\\10 Academy\\Week 7\\GitHub Repository\\telegram-medical-data-pipeline\\venv312\\Lib\\site-packages\\sqlalchemy\\util\\deprecations.py:281\u001b[39m, in \u001b[36mdeprecated_params.<locals>.decorate.<locals>.warned\u001b[39m\u001b[34m(fn, *args, **kwargs)\u001b[39m\n\u001b[32m    274\u001b[39m     \u001b[38;5;28;01mif\u001b[39;00m m \u001b[38;5;129;01min\u001b[39;00m kwargs:\n\u001b[32m    275\u001b[39m         _warn_with_version(\n\u001b[32m    276\u001b[39m             messages[m],\n\u001b[32m    277\u001b[39m             versions[m],\n\u001b[32m    278\u001b[39m             version_warnings[m],\n\u001b[32m    279\u001b[39m             stacklevel=\u001b[32m3\u001b[39m,\n\u001b[32m    280\u001b[39m         )\n\u001b[32m--> \u001b[39m\u001b[32m281\u001b[39m \u001b[38;5;28;01mreturn\u001b[39;00m \u001b[43mfn\u001b[49m\u001b[43m(\u001b[49m\u001b[43m*\u001b[49m\u001b[43margs\u001b[49m\u001b[43m,\u001b[49m\u001b[43m \u001b[49m\u001b[43m*\u001b[49m\u001b[43m*\u001b[49m\u001b[43mkwargs\u001b[49m\u001b[43m)\u001b[49m\n",
      "\u001b[36mFile \u001b[39m\u001b[32mc:\\Users\\Admin\\OneDrive\\ACADEMIA\\10 Academy\\Week 7\\GitHub Repository\\telegram-medical-data-pipeline\\venv312\\Lib\\site-packages\\sqlalchemy\\engine\\create.py:602\u001b[39m, in \u001b[36mcreate_engine\u001b[39m\u001b[34m(url, **kwargs)\u001b[39m\n\u001b[32m    600\u001b[39m         \u001b[38;5;28;01mif\u001b[39;00m k \u001b[38;5;129;01min\u001b[39;00m kwargs:\n\u001b[32m    601\u001b[39m             dbapi_args[k] = pop_kwarg(k)\n\u001b[32m--> \u001b[39m\u001b[32m602\u001b[39m     dbapi = \u001b[43mdbapi_meth\u001b[49m\u001b[43m(\u001b[49m\u001b[43m*\u001b[49m\u001b[43m*\u001b[49m\u001b[43mdbapi_args\u001b[49m\u001b[43m)\u001b[49m\n\u001b[32m    604\u001b[39m dialect_args[\u001b[33m\"\u001b[39m\u001b[33mdbapi\u001b[39m\u001b[33m\"\u001b[39m] = dbapi\n\u001b[32m    606\u001b[39m dialect_args.setdefault(\u001b[33m\"\u001b[39m\u001b[33mcompiler_linting\u001b[39m\u001b[33m\"\u001b[39m, compiler.NO_LINTING)\n",
      "\u001b[36mFile \u001b[39m\u001b[32mc:\\Users\\Admin\\OneDrive\\ACADEMIA\\10 Academy\\Week 7\\GitHub Repository\\telegram-medical-data-pipeline\\venv312\\Lib\\site-packages\\sqlalchemy\\dialects\\postgresql\\psycopg2.py:696\u001b[39m, in \u001b[36mPGDialect_psycopg2.import_dbapi\u001b[39m\u001b[34m(cls)\u001b[39m\n\u001b[32m    694\u001b[39m \u001b[38;5;129m@classmethod\u001b[39m\n\u001b[32m    695\u001b[39m \u001b[38;5;28;01mdef\u001b[39;00m\u001b[38;5;250m \u001b[39m\u001b[34mimport_dbapi\u001b[39m(\u001b[38;5;28mcls\u001b[39m):\n\u001b[32m--> \u001b[39m\u001b[32m696\u001b[39m     \u001b[38;5;28;01mimport\u001b[39;00m\u001b[38;5;250m \u001b[39m\u001b[34;01mpsycopg2\u001b[39;00m\n\u001b[32m    698\u001b[39m     \u001b[38;5;28;01mreturn\u001b[39;00m psycopg2\n",
      "\u001b[31mModuleNotFoundError\u001b[39m: No module named 'psycopg2'"
     ]
    }
   ],
   "source": [
    "# Create an instance of the loader\n",
    "loader = telegram_loader.TelegramMessageLoader()"
   ]
  }
 ],
 "metadata": {
  "kernelspec": {
   "display_name": "venv312",
   "language": "python",
   "name": "python3"
  },
  "language_info": {
   "codemirror_mode": {
    "name": "ipython",
    "version": 3
   },
   "file_extension": ".py",
   "mimetype": "text/x-python",
   "name": "python",
   "nbconvert_exporter": "python",
   "pygments_lexer": "ipython3",
   "version": "3.12.10"
  }
 },
 "nbformat": 4,
 "nbformat_minor": 5
}
