{
 "cells": [
  {
   "cell_type": "markdown",
   "id": "a42c28ac",
   "metadata": {},
   "source": [
    "## Setup Python Path\n",
    "\n",
    "This cell adds the `scripts` directory to the Python path so we can import our custom Telegram loader module. This allows us to use the `TelegramMessageLoader` class we created."
   ]
  },
  {
   "cell_type": "code",
   "execution_count": 1,
   "id": "a3b1328e",
   "metadata": {},
   "outputs": [],
   "source": [
    "import sys\n",
    "import os\n",
    "from pathlib import Path\n",
    "\n",
    "# Add the scripts directory to the path so we can import our loader\n",
    "sys.path.append(str(Path.cwd() / \"scripts\"))"
   ]
  },
  {
   "cell_type": "markdown",
   "id": "888bb6c9",
   "metadata": {},
   "source": [
    "## Environment Configuration\n",
    "\n",
    "This cell loads the database credentials and configuration from your `.env` file. Make sure your `.env` file contains the correct PostgreSQL connection details for the `telegram_medical` database."
   ]
  },
  {
   "cell_type": "code",
   "execution_count": 2,
   "id": "88835978",
   "metadata": {},
   "outputs": [
    {
     "data": {
      "text/plain": [
       "False"
      ]
     },
     "execution_count": 2,
     "metadata": {},
     "output_type": "execute_result"
    }
   ],
   "source": [
    "# If your .env is in the project root, this will load it\n",
    "from dotenv import load_dotenv\n",
    "\n",
    "load_dotenv(dotenv_path=Path.cwd() / \".env\")"
   ]
  },
  {
   "cell_type": "markdown",
   "id": "d084084b",
   "metadata": {},
   "source": [
    "## Import Custom Loader\n",
    "\n",
    "This cell dynamically imports our `TelegramMessageLoader` class from the `load_telegram_messages.py` script. This allows us to use the loader functionality directly in the notebook."
   ]
  },
  {
   "cell_type": "code",
   "execution_count": 3,
   "id": "c1e59988",
   "metadata": {},
   "outputs": [],
   "source": [
    "import importlib.util\n",
    "from pathlib import Path\n",
    "\n",
    "# If running from notebooks/ directory, go up one level to find scripts/\n",
    "loader_path = Path.cwd().parent / \"scripts\" / \"load_telegram_messages.py\"\n",
    "spec = importlib.util.spec_from_file_location(\"telegram_loader\", loader_path)\n",
    "telegram_loader = importlib.util.module_from_spec(spec)\n",
    "spec.loader.exec_module(telegram_loader)"
   ]
  },
  {
   "cell_type": "markdown",
   "id": "ccebc12e",
   "metadata": {},
   "source": [
    "## Initialize Database Loader\n",
    "\n",
    "This cell creates an instance of the `TelegramMessageLoader` class. The loader will:\n",
    "- Connect to your PostgreSQL database\n",
    "- Create the `raw.telegram_messages` table if it doesn't exist\n",
    "- Set up the database schema and constraints"
   ]
  },
  {
   "cell_type": "code",
   "execution_count": 4,
   "id": "e6f11529",
   "metadata": {},
   "outputs": [
    {
     "name": "stderr",
     "output_type": "stream",
     "text": [
      "2025-07-15 02:45:48,465 - INFO - Successfully connected to database: telegram_medical on 127.0.0.1:5432\n",
      "2025-07-15 02:45:48,490 - INFO - Table raw.telegram_messages created/verified successfully\n"
     ]
    }
   ],
   "source": [
    "# Create an instance of the loader\n",
    "loader = telegram_loader.TelegramMessageLoader()"
   ]
  },
  {
   "cell_type": "markdown",
   "id": "58a66b66",
   "metadata": {},
   "source": [
    "## Load All Telegram Messages\n",
    "\n",
    "This cell processes all JSON files in the `notebooks/data/raw/telegram_messages/` directory and loads them into the database. The results show:\n",
    "- How many messages were inserted from each file\n",
    "- How many were skipped (duplicates)\n",
    "- Total processing statistics"
   ]
  },
  {
   "cell_type": "code",
   "execution_count": 5,
   "id": "33ef46c2",
   "metadata": {},
   "outputs": [
    {
     "name": "stderr",
     "output_type": "stream",
     "text": [
      "2025-07-15 02:45:48,506 - INFO - Found 3 JSON files to process\n",
      "2025-07-15 02:45:48,506 - INFO - Processing file: c:\\Users\\Admin\\OneDrive\\ACADEMIA\\10 Academy\\Week 7\\GitHub Repository\\telegram-medical-data-pipeline\\notebooks\\data\\raw\\telegram_messages\\2025-07-14\\CheMed123\\CheMed123.json\n",
      "2025-07-15 02:45:48,579 - INFO - File CheMed123.json: 63 messages inserted, 0 skipped\n",
      "2025-07-15 02:45:48,587 - INFO - Processing file: c:\\Users\\Admin\\OneDrive\\ACADEMIA\\10 Academy\\Week 7\\GitHub Repository\\telegram-medical-data-pipeline\\notebooks\\data\\raw\\telegram_messages\\2025-07-14\\lobelia4cosmetics\\lobelia4cosmetics.json\n",
      "2025-07-15 02:45:49,304 - INFO - File lobelia4cosmetics.json: 965 messages inserted, 0 skipped\n",
      "2025-07-15 02:45:49,304 - INFO - Processing file: c:\\Users\\Admin\\OneDrive\\ACADEMIA\\10 Academy\\Week 7\\GitHub Repository\\telegram-medical-data-pipeline\\notebooks\\data\\raw\\telegram_messages\\2025-07-14\\tikvahpharma\\tikvahpharma.json\n",
      "2025-07-15 02:45:50,329 - INFO - File tikvahpharma.json: 946 messages inserted, 0 skipped\n",
      "2025-07-15 02:45:50,329 - INFO - Processing complete. Total messages inserted: 1974\n"
     ]
    },
    {
     "name": "stdout",
     "output_type": "stream",
     "text": [
      "{'c:\\\\Users\\\\Admin\\\\OneDrive\\\\ACADEMIA\\\\10 Academy\\\\Week 7\\\\GitHub Repository\\\\telegram-medical-data-pipeline\\\\notebooks\\\\data\\\\raw\\\\telegram_messages\\\\2025-07-14\\\\CheMed123\\\\CheMed123.json': 63,\n",
      " 'c:\\\\Users\\\\Admin\\\\OneDrive\\\\ACADEMIA\\\\10 Academy\\\\Week 7\\\\GitHub Repository\\\\telegram-medical-data-pipeline\\\\notebooks\\\\data\\\\raw\\\\telegram_messages\\\\2025-07-14\\\\lobelia4cosmetics\\\\lobelia4cosmetics.json': 965,\n",
      " 'c:\\\\Users\\\\Admin\\\\OneDrive\\\\ACADEMIA\\\\10 Academy\\\\Week 7\\\\GitHub Repository\\\\telegram-medical-data-pipeline\\\\notebooks\\\\data\\\\raw\\\\telegram_messages\\\\2025-07-14\\\\tikvahpharma\\\\tikvahpharma.json': 946}\n"
     ]
    }
   ],
   "source": [
    "# This will process all JSON files in the default directory\n",
    "results = loader.process_files()\n",
    "\n",
    "# Show a summary\n",
    "from pprint import pprint\n",
    "pprint(results)"
   ]
  },
  {
   "cell_type": "markdown",
   "id": "14bbd683",
   "metadata": {},
   "source": [
    "## 📋 Summary and Troubleshooting\n",
    "\n",
    "### What Just Happened?\n",
    "- ✅ The loader created the `raw.telegram_messages` table in your PostgreSQL database\n",
    "- ✅ All JSON files were processed and messages were inserted\n",
    "- ✅ Duplicate messages were automatically skipped using `message_id` as the unique key\n",
    "- ✅ A detailed log was created in `telegram_loader.log`\n",
    "\n",
    "### Database Schema Created:\n",
    "- **Table**: `raw.telegram_messages`\n",
    "- **Key Fields**: `message_id` (unique), `message_text`, `channel_name`, `message_date`\n",
    "- **Additional Fields**: `has_media`, `media_type`, `sender_username`, `raw_data` (JSONB)\n",
    "\n",
    "### Troubleshooting Common Issues:\n",
    "\n",
    "🔴 **Database Connection Error**\n",
    "- Check that PostgreSQL is running\n",
    "- Verify your `.env` file has correct credentials\n",
    "- Ensure the `telegram_medical` database exists\n",
    "\n",
    "🔴 **Permission Errors**\n",
    "- Make sure your PostgreSQL user has rights to create tables and insert data\n",
    "- Check that the user can access the `telegram_medical` database\n",
    "\n",
    "�� **Import Errors**\n",
    "- Run the dependency installation cell\n",
    "- Check that the `scripts` directory exists and contains the loader file\n",
    "\n",
    "🔴 **File Not Found Errors**\n",
    "- Verify JSON files exist in `notebooks/data/raw/telegram_messages/`\n",
    "- Check file permissions and paths\n",
    "\n",
    "### Next Steps:\n",
    "- Explore the loaded data using SQL queries\n",
    "- Transform and clean the data for analysis\n",
    "- Create visualizations of the message patterns\n",
    "- Set up automated data pipelines"
   ]
  },
  {
   "cell_type": "markdown",
   "id": "1e0d8f4b",
   "metadata": {},
   "source": [
    "## Verify Data Loading\n",
    "\n",
    "This cell helps you verify that the data was loaded correctly by checking the database and showing some sample records."
   ]
  },
  {
   "cell_type": "code",
   "execution_count": 8,
   "id": "5325cf80",
   "metadata": {},
   "outputs": [
    {
     "name": "stdout",
     "output_type": "stream",
     "text": [
      "Total messages loaded: 1974\n",
      "\n",
      "Sample messages:\n"
     ]
    },
    {
     "data": {
      "text/html": [
       "<div>\n",
       "<style scoped>\n",
       "    .dataframe tbody tr th:only-of-type {\n",
       "        vertical-align: middle;\n",
       "    }\n",
       "\n",
       "    .dataframe tbody tr th {\n",
       "        vertical-align: top;\n",
       "    }\n",
       "\n",
       "    .dataframe thead th {\n",
       "        text-align: right;\n",
       "    }\n",
       "</style>\n",
       "<table border=\"1\" class=\"dataframe\">\n",
       "  <thead>\n",
       "    <tr style=\"text-align: right;\">\n",
       "      <th></th>\n",
       "      <th>message_id</th>\n",
       "      <th>channel_name</th>\n",
       "      <th>message_text</th>\n",
       "      <th>message_date</th>\n",
       "    </tr>\n",
       "  </thead>\n",
       "  <tbody>\n",
       "    <tr>\n",
       "      <th>0</th>\n",
       "      <td>97</td>\n",
       "      <td>CheMed123</td>\n",
       "      <td>⚠️**Notice!\\n**Dear esteemed customers,\\nDue t...</td>\n",
       "      <td>2023-02-10 12:23:06</td>\n",
       "    </tr>\n",
       "    <tr>\n",
       "      <th>1</th>\n",
       "      <td>96</td>\n",
       "      <td>CheMed123</td>\n",
       "      <td>Mela-One በውስጡ ሆርሞን ያለው ድንገተኛ ወሊድ መቆጣጠርያ ሲሆን ያለ...</td>\n",
       "      <td>2023-02-02 08:58:52</td>\n",
       "    </tr>\n",
       "    <tr>\n",
       "      <th>2</th>\n",
       "      <td>95</td>\n",
       "      <td>CheMed123</td>\n",
       "      <td>**አዚትሮማይሲን** በሃኪም መድሃኒት ማዘዣ ከሚታዘዙ አንቲባዮቲኮች አንዱ...</td>\n",
       "      <td>2023-02-01 08:59:37</td>\n",
       "    </tr>\n",
       "    <tr>\n",
       "      <th>3</th>\n",
       "      <td>94</td>\n",
       "      <td>CheMed123</td>\n",
       "      <td>**Che-Med Trivia #3\\n\\n**ምግብና መጠጦች አንዳንድ መድሃኒቶ...</td>\n",
       "      <td>2023-01-31 09:19:53</td>\n",
       "    </tr>\n",
       "    <tr>\n",
       "      <th>4</th>\n",
       "      <td>88</td>\n",
       "      <td>CheMed123</td>\n",
       "      <td>🌞**Sundown Cinnamon!\\nSupports sugar metabolis...</td>\n",
       "      <td>2023-01-17 08:43:12</td>\n",
       "    </tr>\n",
       "  </tbody>\n",
       "</table>\n",
       "</div>"
      ],
      "text/plain": [
       "   message_id channel_name                                       message_text  \\\n",
       "0          97    CheMed123  ⚠️**Notice!\\n**Dear esteemed customers,\\nDue t...   \n",
       "1          96    CheMed123  Mela-One በውስጡ ሆርሞን ያለው ድንገተኛ ወሊድ መቆጣጠርያ ሲሆን ያለ...   \n",
       "2          95    CheMed123  **አዚትሮማይሲን** በሃኪም መድሃኒት ማዘዣ ከሚታዘዙ አንቲባዮቲኮች አንዱ...   \n",
       "3          94    CheMed123  **Che-Med Trivia #3\\n\\n**ምግብና መጠጦች አንዳንድ መድሃኒቶ...   \n",
       "4          88    CheMed123  🌞**Sundown Cinnamon!\\nSupports sugar metabolis...   \n",
       "\n",
       "         message_date  \n",
       "0 2023-02-10 12:23:06  \n",
       "1 2023-02-02 08:58:52  \n",
       "2 2023-02-01 08:59:37  \n",
       "3 2023-01-31 09:19:53  \n",
       "4 2023-01-17 08:43:12  "
      ]
     },
     "metadata": {},
     "output_type": "display_data"
    }
   ],
   "source": [
    "# Connect to database and check the loaded data\n",
    "import pandas as pd\n",
    "from sqlalchemy import create_engine, text\n",
    "\n",
    "# Get database connection\n",
    "db_host = os.getenv('POSTGRES_HOST', 'localhost')\n",
    "db_port = os.getenv('POSTGRES_PORT', '5432')\n",
    "db_name = os.getenv('POSTGRES_DB', 'telegram_medical')\n",
    "db_user = os.getenv('POSTGRES_USER', 'postgres')\n",
    "db_password = os.getenv('POSTGRES_PASSWORD', '')\n",
    "\n",
    "database_url = f\"postgresql://{db_user}:{db_password}@{db_host}:{db_port}/{db_name}\"\n",
    "engine = create_engine(database_url)\n",
    "\n",
    "# Check total count\n",
    "with engine.connect() as conn:\n",
    "    result = conn.execute(text(\"SELECT COUNT(*) FROM raw.telegram_messages\"))\n",
    "    total_count = result.fetchone()[0]\n",
    "    print(f\"Total messages loaded: {total_count}\")\n",
    "\n",
    "# Show sample data\n",
    "df = pd.read_sql(\"SELECT message_id, channel_name, message_text, message_date FROM raw.telegram_messages LIMIT 5\", engine)\n",
    "print(\"\\nSample messages:\")\n",
    "display(df)"
   ]
  },
  {
   "cell_type": "markdown",
   "id": "1a8a3619",
   "metadata": {},
   "source": [
    "## Data Exploration\n",
    "\n",
    "This cell provides some basic analytics on your loaded Telegram messages to help you understand the data structure and patterns."
   ]
  },
  {
   "cell_type": "code",
   "execution_count": 9,
   "id": "145635ba",
   "metadata": {},
   "outputs": [
    {
     "name": "stdout",
     "output_type": "stream",
     "text": [
      "�� Channel Statistics:\n"
     ]
    },
    {
     "data": {
      "text/html": [
       "<div>\n",
       "<style scoped>\n",
       "    .dataframe tbody tr th:only-of-type {\n",
       "        vertical-align: middle;\n",
       "    }\n",
       "\n",
       "    .dataframe tbody tr th {\n",
       "        vertical-align: top;\n",
       "    }\n",
       "\n",
       "    .dataframe thead th {\n",
       "        text-align: right;\n",
       "    }\n",
       "</style>\n",
       "<table border=\"1\" class=\"dataframe\">\n",
       "  <thead>\n",
       "    <tr style=\"text-align: right;\">\n",
       "      <th></th>\n",
       "      <th>channel_name</th>\n",
       "      <th>message_count</th>\n",
       "      <th>first_message</th>\n",
       "      <th>last_message</th>\n",
       "    </tr>\n",
       "  </thead>\n",
       "  <tbody>\n",
       "    <tr>\n",
       "      <th>0</th>\n",
       "      <td>lobelia4cosmetics</td>\n",
       "      <td>965</td>\n",
       "      <td>2025-05-21 08:33:48</td>\n",
       "      <td>2025-07-14 12:45:26</td>\n",
       "    </tr>\n",
       "    <tr>\n",
       "      <th>1</th>\n",
       "      <td>tikvahpharma</td>\n",
       "      <td>946</td>\n",
       "      <td>2025-06-05 08:14:47</td>\n",
       "      <td>2025-07-14 18:27:36</td>\n",
       "    </tr>\n",
       "    <tr>\n",
       "      <th>2</th>\n",
       "      <td>CheMed123</td>\n",
       "      <td>63</td>\n",
       "      <td>2022-09-05 09:57:09</td>\n",
       "      <td>2023-02-10 12:23:06</td>\n",
       "    </tr>\n",
       "  </tbody>\n",
       "</table>\n",
       "</div>"
      ],
      "text/plain": [
       "        channel_name  message_count       first_message        last_message\n",
       "0  lobelia4cosmetics            965 2025-05-21 08:33:48 2025-07-14 12:45:26\n",
       "1       tikvahpharma            946 2025-06-05 08:14:47 2025-07-14 18:27:36\n",
       "2          CheMed123             63 2022-09-05 09:57:09 2023-02-10 12:23:06"
      ]
     },
     "metadata": {},
     "output_type": "display_data"
    },
    {
     "name": "stdout",
     "output_type": "stream",
     "text": [
      "\n",
      "📷 Media Statistics:\n"
     ]
    },
    {
     "data": {
      "text/html": [
       "<div>\n",
       "<style scoped>\n",
       "    .dataframe tbody tr th:only-of-type {\n",
       "        vertical-align: middle;\n",
       "    }\n",
       "\n",
       "    .dataframe tbody tr th {\n",
       "        vertical-align: top;\n",
       "    }\n",
       "\n",
       "    .dataframe thead th {\n",
       "        text-align: right;\n",
       "    }\n",
       "</style>\n",
       "<table border=\"1\" class=\"dataframe\">\n",
       "  <thead>\n",
       "    <tr style=\"text-align: right;\">\n",
       "      <th></th>\n",
       "      <th>has_media</th>\n",
       "      <th>count</th>\n",
       "      <th>percentage</th>\n",
       "    </tr>\n",
       "  </thead>\n",
       "  <tbody>\n",
       "    <tr>\n",
       "      <th>0</th>\n",
       "      <td>False</td>\n",
       "      <td>581</td>\n",
       "      <td>29.43</td>\n",
       "    </tr>\n",
       "    <tr>\n",
       "      <th>1</th>\n",
       "      <td>True</td>\n",
       "      <td>1393</td>\n",
       "      <td>70.57</td>\n",
       "    </tr>\n",
       "  </tbody>\n",
       "</table>\n",
       "</div>"
      ],
      "text/plain": [
       "   has_media  count  percentage\n",
       "0      False    581       29.43\n",
       "1       True   1393       70.57"
      ]
     },
     "metadata": {},
     "output_type": "display_data"
    },
    {
     "name": "stdout",
     "output_type": "stream",
     "text": [
      "\n",
      "📅 Date Range:\n"
     ]
    },
    {
     "data": {
      "text/html": [
       "<div>\n",
       "<style scoped>\n",
       "    .dataframe tbody tr th:only-of-type {\n",
       "        vertical-align: middle;\n",
       "    }\n",
       "\n",
       "    .dataframe tbody tr th {\n",
       "        vertical-align: top;\n",
       "    }\n",
       "\n",
       "    .dataframe thead th {\n",
       "        text-align: right;\n",
       "    }\n",
       "</style>\n",
       "<table border=\"1\" class=\"dataframe\">\n",
       "  <thead>\n",
       "    <tr style=\"text-align: right;\">\n",
       "      <th></th>\n",
       "      <th>earliest_message</th>\n",
       "      <th>latest_message</th>\n",
       "      <th>unique_days</th>\n",
       "    </tr>\n",
       "  </thead>\n",
       "  <tbody>\n",
       "    <tr>\n",
       "      <th>0</th>\n",
       "      <td>2022-09-05 09:57:09</td>\n",
       "      <td>2025-07-14 18:27:36</td>\n",
       "      <td>103</td>\n",
       "    </tr>\n",
       "  </tbody>\n",
       "</table>\n",
       "</div>"
      ],
      "text/plain": [
       "     earliest_message      latest_message  unique_days\n",
       "0 2022-09-05 09:57:09 2025-07-14 18:27:36          103"
      ]
     },
     "metadata": {},
     "output_type": "display_data"
    }
   ],
   "source": [
    "# Basic data exploration\n",
    "import pandas as pd\n",
    "\n",
    "# Channel distribution\n",
    "channel_stats = pd.read_sql(\"\"\"\n",
    "    SELECT \n",
    "        channel_name,\n",
    "        COUNT(*) as message_count,\n",
    "        MIN(message_date) as first_message,\n",
    "        MAX(message_date) as last_message\n",
    "    FROM raw.telegram_messages \n",
    "    GROUP BY channel_name \n",
    "    ORDER BY message_count DESC\n",
    "\"\"\", engine)\n",
    "\n",
    "print(\"�� Channel Statistics:\")\n",
    "display(channel_stats)\n",
    "\n",
    "# Messages with media\n",
    "media_stats = pd.read_sql(\"\"\"\n",
    "    SELECT \n",
    "        has_media,\n",
    "        COUNT(*) as count,\n",
    "        ROUND(COUNT(*) * 100.0 / (SELECT COUNT(*) FROM raw.telegram_messages), 2) as percentage\n",
    "    FROM raw.telegram_messages \n",
    "    GROUP BY has_media\n",
    "\"\"\", engine)\n",
    "\n",
    "print(\"\\n📷 Media Statistics:\")\n",
    "display(media_stats)\n",
    "\n",
    "# Date range\n",
    "date_range = pd.read_sql(\"\"\"\n",
    "    SELECT \n",
    "        MIN(message_date) as earliest_message,\n",
    "        MAX(message_date) as latest_message,\n",
    "        COUNT(DISTINCT DATE(message_date)) as unique_days\n",
    "    FROM raw.telegram_messages\n",
    "\"\"\", engine)\n",
    "\n",
    "print(\"\\n📅 Date Range:\")\n",
    "display(date_range)"
   ]
  }
 ],
 "metadata": {
  "kernelspec": {
   "display_name": "venv312",
   "language": "python",
   "name": "python3"
  },
  "language_info": {
   "codemirror_mode": {
    "name": "ipython",
    "version": 3
   },
   "file_extension": ".py",
   "mimetype": "text/x-python",
   "name": "python",
   "nbconvert_exporter": "python",
   "pygments_lexer": "ipython3",
   "version": "3.12.10"
  }
 },
 "nbformat": 4,
 "nbformat_minor": 5
}
