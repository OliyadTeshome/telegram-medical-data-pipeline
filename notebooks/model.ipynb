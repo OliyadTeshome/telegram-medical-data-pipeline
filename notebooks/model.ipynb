{
 "cells": [
  {
   "cell_type": "markdown",
   "id": "4aeca281",
   "metadata": {},
   "source": [
    "# Telegram Data Analysis with dbt Models\n",
    "\n",
    "This notebook demonstrates how to work with the dbt models and perform comprehensive analysis on the Telegram medical data pipeline.\n",
    "\n",
    "## Objectives\n",
    "- Connect to the PostgreSQL database with dbt models\n",
    "- Explore the data structure and quality\n",
    "- Perform descriptive analytics\n",
    "- Create visualizations\n",
    "- Generate insights from the Telegram messages"
   ]
  },
  {
   "cell_type": "markdown",
   "id": "5c5e1000",
   "metadata": {},
   "source": [
    "## Import Libraries"
   ]
  },
  {
   "cell_type": "code",
   "execution_count": 1,
   "id": "2de9328e",
   "metadata": {},
   "outputs": [
    {
     "name": "stdout",
     "output_type": "stream",
     "text": [
      "✅ All imports successful!\n"
     ]
    }
   ],
   "source": [
    "import pandas as pd\n",
    "import numpy as np\n",
    "import matplotlib.pyplot as plt\n",
    "import seaborn as sns\n",
    "import plotly.express as px\n",
    "import plotly.graph_objects as go\n",
    "from plotly.subplots import make_subplots\n",
    "import warnings\n",
    "warnings.filterwarnings('ignore')\n",
    "\n",
    "# Database connection\n",
    "from sqlalchemy import create_engine, text\n",
    "import os\n",
    "from dotenv import load_dotenv\n",
    "\n",
    "# Load environment variables\n",
    "load_dotenv()\n",
    "\n",
    "# Set plotting style\n",
    "plt.style.use('seaborn-v0_8')\n",
    "sns.set_palette(\"husl\")\n",
    "\n",
    "print(\"✅ All imports successful!\")"
   ]
  },
  {
   "cell_type": "markdown",
   "id": "97062e3d",
   "metadata": {},
   "source": [
    "## Database Connection"
   ]
  },
  {
   "cell_type": "code",
   "execution_count": 2,
   "id": "ed014882",
   "metadata": {},
   "outputs": [
    {
     "name": "stdout",
     "output_type": "stream",
     "text": [
      "🔗 Connecting to database: telegram_medical on 127.0.0.1:5432\n",
      "✅ Database connection successful!\n"
     ]
    }
   ],
   "source": [
    "# Database connection setup\n",
    "db_host = os.getenv('POSTGRES_HOST', 'localhost')\n",
    "db_port = os.getenv('POSTGRES_PORT', '5432')\n",
    "db_name = os.getenv('POSTGRES_DB', 'telegram_medical')\n",
    "db_user = os.getenv('POSTGRES_USER', 'postgres')\n",
    "db_password = os.getenv('POSTGRES_PASSWORD', '')\n",
    "\n",
    "# Create database URL\n",
    "database_url = f\"postgresql://{db_user}:{db_password}@{db_host}:{db_port}/{db_name}\"\n",
    "engine = create_engine(database_url)\n",
    "\n",
    "print(f\"🔗 Connecting to database: {db_name} on {db_host}:{db_port}\")\n",
    "\n",
    "# Test connection\n",
    "try:\n",
    "    with engine.connect() as conn:\n",
    "        result = conn.execute(text(\"SELECT 1\"))\n",
    "        print(\"✅ Database connection successful!\")\n",
    "except Exception as e:\n",
    "    print(f\"❌ Database connection failed: {e}\")\n",
    "    print(\"Please check your .env file and ensure PostgreSQL is running.\")"
   ]
  },
  {
   "cell_type": "markdown",
   "id": "86721b02",
   "metadata": {},
   "source": [
    "## Data Overview"
   ]
  },
  {
   "cell_type": "code",
   "execution_count": 3,
   "id": "22471d72",
   "metadata": {},
   "outputs": [
    {
     "name": "stdout",
     "output_type": "stream",
     "text": [
      "📊 Raw data table exists: True\n",
      "📊 Staging model exists: True\n",
      "�� Channels dimension exists: True\n",
      "📊 Dates dimension exists: True\n",
      "�� Fact table exists: True\n"
     ]
    }
   ],
   "source": [
    "# Check if dbt models exist\n",
    "def check_table_exists(table_name, schema='public'):\n",
    "    \"\"\"Check if a table exists in the database\"\"\"\n",
    "    try:\n",
    "        with engine.connect() as conn:\n",
    "            result = conn.execute(text(f\"\"\"\n",
    "                SELECT EXISTS (\n",
    "                    SELECT FROM information_schema.tables \n",
    "                    WHERE table_schema = '{schema}' \n",
    "                    AND table_name = '{table_name}'\n",
    "                );\n",
    "            \"\"\"))\n",
    "            return result.fetchone()[0]\n",
    "    except Exception as e:\n",
    "        print(f\"Error checking table {table_name}: {e}\")\n",
    "        return False\n",
    "\n",
    "# Check raw data\n",
    "raw_exists = check_table_exists('telegram_messages', 'raw')\n",
    "print(f\"📊 Raw data table exists: {raw_exists}\")\n",
    "\n",
    "# Check dbt models\n",
    "staging_exists = check_table_exists('stg_telegram_messages')\n",
    "dim_channels_exists = check_table_exists('dim_channels')\n",
    "dim_dates_exists = check_table_exists('dim_dates')\n",
    "fct_messages_exists = check_table_exists('fct_messages')\n",
    "\n",
    "print(f\"📊 Staging model exists: {staging_exists}\")\n",
    "print(f\"�� Channels dimension exists: {dim_channels_exists}\")\n",
    "print(f\"📊 Dates dimension exists: {dim_dates_exists}\")\n",
    "print(f\"�� Fact table exists: {fct_messages_exists}\")"
   ]
  },
  {
   "cell_type": "markdown",
   "id": "94b862ae",
   "metadata": {},
   "source": [
    "## Raw Data Exploration"
   ]
  },
  {
   "cell_type": "code",
   "execution_count": 4,
   "id": "938f4ac1",
   "metadata": {},
   "outputs": [
    {
     "name": "stdout",
     "output_type": "stream",
     "text": [
      "📊 Raw Data Statistics:\n"
     ]
    },
    {
     "data": {
      "text/html": [
       "<div>\n",
       "<style scoped>\n",
       "    .dataframe tbody tr th:only-of-type {\n",
       "        vertical-align: middle;\n",
       "    }\n",
       "\n",
       "    .dataframe tbody tr th {\n",
       "        vertical-align: top;\n",
       "    }\n",
       "\n",
       "    .dataframe thead th {\n",
       "        text-align: right;\n",
       "    }\n",
       "</style>\n",
       "<table border=\"1\" class=\"dataframe\">\n",
       "  <thead>\n",
       "    <tr style=\"text-align: right;\">\n",
       "      <th></th>\n",
       "      <th>total_messages</th>\n",
       "      <th>unique_channels</th>\n",
       "      <th>earliest_message</th>\n",
       "      <th>latest_message</th>\n",
       "      <th>messages_with_media</th>\n",
       "      <th>messages_with_images</th>\n",
       "    </tr>\n",
       "  </thead>\n",
       "  <tbody>\n",
       "    <tr>\n",
       "      <th>0</th>\n",
       "      <td>1974</td>\n",
       "      <td>3</td>\n",
       "      <td>2022-09-05 09:57:09</td>\n",
       "      <td>2025-07-14 18:27:36</td>\n",
       "      <td>1393</td>\n",
       "      <td>1279</td>\n",
       "    </tr>\n",
       "  </tbody>\n",
       "</table>\n",
       "</div>"
      ],
      "text/plain": [
       "   total_messages  unique_channels    earliest_message      latest_message  \\\n",
       "0            1974                3 2022-09-05 09:57:09 2025-07-14 18:27:36   \n",
       "\n",
       "   messages_with_media  messages_with_images  \n",
       "0                 1393                  1279  "
      ]
     },
     "metadata": {},
     "output_type": "display_data"
    }
   ],
   "source": [
    "# Load raw data if available\n",
    "if raw_exists:\n",
    "    raw_query = \"\"\"\n",
    "    SELECT \n",
    "        COUNT(*) as total_messages,\n",
    "        COUNT(DISTINCT channel_name) as unique_channels,\n",
    "        MIN(message_date) as earliest_message,\n",
    "        MAX(message_date) as latest_message,\n",
    "        COUNT(CASE WHEN has_media THEN 1 END) as messages_with_media,\n",
    "        COUNT(CASE WHEN has_media AND media_type IN ('MessageMediaPhoto', 'MessageMediaDocument') THEN 1 END) as messages_with_images\n",
    "    FROM raw.telegram_messages\n",
    "    \"\"\"\n",
    "    \n",
    "    raw_stats = pd.read_sql(raw_query, engine)\n",
    "    print(\"📊 Raw Data Statistics:\")\n",
    "    display(raw_stats)\n",
    "else:\n",
    "    print(\"⚠️ Raw data table not found. Please run the data loader first.\")"
   ]
  },
  {
   "cell_type": "code",
   "execution_count": 5,
   "id": "ef745069",
   "metadata": {},
   "outputs": [
    {
     "name": "stdout",
     "output_type": "stream",
     "text": [
      "📝 Sample Messages:\n"
     ]
    },
    {
     "data": {
      "text/html": [
       "<div>\n",
       "<style scoped>\n",
       "    .dataframe tbody tr th:only-of-type {\n",
       "        vertical-align: middle;\n",
       "    }\n",
       "\n",
       "    .dataframe tbody tr th {\n",
       "        vertical-align: top;\n",
       "    }\n",
       "\n",
       "    .dataframe thead th {\n",
       "        text-align: right;\n",
       "    }\n",
       "</style>\n",
       "<table border=\"1\" class=\"dataframe\">\n",
       "  <thead>\n",
       "    <tr style=\"text-align: right;\">\n",
       "      <th></th>\n",
       "      <th>message_id</th>\n",
       "      <th>channel_name</th>\n",
       "      <th>message_preview</th>\n",
       "      <th>message_date</th>\n",
       "      <th>has_media</th>\n",
       "      <th>media_type</th>\n",
       "      <th>sender_username</th>\n",
       "    </tr>\n",
       "  </thead>\n",
       "  <tbody>\n",
       "    <tr>\n",
       "      <th>0</th>\n",
       "      <td>172656</td>\n",
       "      <td>tikvahpharma</td>\n",
       "      <td>NEW JOB VACCANCY \\n08/11/2017\\nJUNIOR PHARMACY...</td>\n",
       "      <td>2025-07-14 18:27:36</td>\n",
       "      <td>False</td>\n",
       "      <td>None</td>\n",
       "      <td>tikvah_tena</td>\n",
       "    </tr>\n",
       "    <tr>\n",
       "      <th>1</th>\n",
       "      <td>172655</td>\n",
       "      <td>tikvahpharma</td>\n",
       "      <td>**ከ540 በላይ የጤና ባለሙያዎች የስራ ማስታወቂያ በአዲስ አበባ ጤና ቢ...</td>\n",
       "      <td>2025-07-14 18:02:14</td>\n",
       "      <td>True</td>\n",
       "      <td>MessageMediaWebPage</td>\n",
       "      <td>tikvah_tena</td>\n",
       "    </tr>\n",
       "    <tr>\n",
       "      <th>2</th>\n",
       "      <td>172650</td>\n",
       "      <td>tikvahpharma</td>\n",
       "      <td>NEW ARRIVALS\\n\\nALMAZ GIRMA IMPORT\\nEgens bran...</td>\n",
       "      <td>2025-07-14 17:25:11</td>\n",
       "      <td>False</td>\n",
       "      <td>None</td>\n",
       "      <td>tikvah_tena</td>\n",
       "    </tr>\n",
       "    <tr>\n",
       "      <th>3</th>\n",
       "      <td>172647</td>\n",
       "      <td>tikvahpharma</td>\n",
       "      <td>PHARMAKON TRADING HOUSE PLC(IMPORTER)\\n\\n   ♟G...</td>\n",
       "      <td>2025-07-14 17:00:32</td>\n",
       "      <td>False</td>\n",
       "      <td>None</td>\n",
       "      <td>tikvah_tena</td>\n",
       "    </tr>\n",
       "    <tr>\n",
       "      <th>4</th>\n",
       "      <td>172644</td>\n",
       "      <td>tikvahpharma</td>\n",
       "      <td>Tikvah Sales\\n(Pharma Import)\\n\\n⬇️🆕**arrival*...</td>\n",
       "      <td>2025-07-14 16:28:24</td>\n",
       "      <td>True</td>\n",
       "      <td>MessageMediaPhoto</td>\n",
       "      <td>tikvah_tena</td>\n",
       "    </tr>\n",
       "    <tr>\n",
       "      <th>5</th>\n",
       "      <td>172637</td>\n",
       "      <td>tikvahpharma</td>\n",
       "      <td>NEW JOB VACCANCY \\n08/11/2017\\nJUNIOR PHARMACY...</td>\n",
       "      <td>2025-07-14 15:18:57</td>\n",
       "      <td>False</td>\n",
       "      <td>None</td>\n",
       "      <td>tikvah_tena</td>\n",
       "    </tr>\n",
       "    <tr>\n",
       "      <th>6</th>\n",
       "      <td>172636</td>\n",
       "      <td>tikvahpharma</td>\n",
       "      <td>From import  \\n\\n🚨 **New Arrival: Medical Equi...</td>\n",
       "      <td>2025-07-14 14:59:12</td>\n",
       "      <td>False</td>\n",
       "      <td>None</td>\n",
       "      <td>tikvah_tena</td>\n",
       "    </tr>\n",
       "    <tr>\n",
       "      <th>7</th>\n",
       "      <td>172631</td>\n",
       "      <td>tikvahpharma</td>\n",
       "      <td>የብቃት ምዘና ፈተና ለመውሰድ በመጠባበቅ ላይ ለምትገኙ ጤና ባለሙያዎች በ...</td>\n",
       "      <td>2025-07-14 14:14:25</td>\n",
       "      <td>True</td>\n",
       "      <td>MessageMediaPhoto</td>\n",
       "      <td>tikvah_tena</td>\n",
       "    </tr>\n",
       "    <tr>\n",
       "      <th>8</th>\n",
       "      <td>172627</td>\n",
       "      <td>tikvahpharma</td>\n",
       "      <td>Urgent vacancy\\n\\n\\n# internist \\n\\nExperiance...</td>\n",
       "      <td>2025-07-14 13:44:11</td>\n",
       "      <td>False</td>\n",
       "      <td>None</td>\n",
       "      <td>tikvah_tena</td>\n",
       "    </tr>\n",
       "    <tr>\n",
       "      <th>9</th>\n",
       "      <td>18569</td>\n",
       "      <td>lobelia4cosmetics</td>\n",
       "      <td>SUDO CREAM \\nPrice 4000 birr \\nTelegram https:...</td>\n",
       "      <td>2025-07-14 12:45:26</td>\n",
       "      <td>True</td>\n",
       "      <td>MessageMediaPhoto</td>\n",
       "      <td>lobelia4cosmetics</td>\n",
       "    </tr>\n",
       "  </tbody>\n",
       "</table>\n",
       "</div>"
      ],
      "text/plain": [
       "   message_id       channel_name  \\\n",
       "0      172656       tikvahpharma   \n",
       "1      172655       tikvahpharma   \n",
       "2      172650       tikvahpharma   \n",
       "3      172647       tikvahpharma   \n",
       "4      172644       tikvahpharma   \n",
       "5      172637       tikvahpharma   \n",
       "6      172636       tikvahpharma   \n",
       "7      172631       tikvahpharma   \n",
       "8      172627       tikvahpharma   \n",
       "9       18569  lobelia4cosmetics   \n",
       "\n",
       "                                     message_preview        message_date  \\\n",
       "0  NEW JOB VACCANCY \\n08/11/2017\\nJUNIOR PHARMACY... 2025-07-14 18:27:36   \n",
       "1  **ከ540 በላይ የጤና ባለሙያዎች የስራ ማስታወቂያ በአዲስ አበባ ጤና ቢ... 2025-07-14 18:02:14   \n",
       "2  NEW ARRIVALS\\n\\nALMAZ GIRMA IMPORT\\nEgens bran... 2025-07-14 17:25:11   \n",
       "3  PHARMAKON TRADING HOUSE PLC(IMPORTER)\\n\\n   ♟G... 2025-07-14 17:00:32   \n",
       "4  Tikvah Sales\\n(Pharma Import)\\n\\n⬇️🆕**arrival*... 2025-07-14 16:28:24   \n",
       "5  NEW JOB VACCANCY \\n08/11/2017\\nJUNIOR PHARMACY... 2025-07-14 15:18:57   \n",
       "6  From import  \\n\\n🚨 **New Arrival: Medical Equi... 2025-07-14 14:59:12   \n",
       "7  የብቃት ምዘና ፈተና ለመውሰድ በመጠባበቅ ላይ ለምትገኙ ጤና ባለሙያዎች በ... 2025-07-14 14:14:25   \n",
       "8  Urgent vacancy\\n\\n\\n# internist \\n\\nExperiance... 2025-07-14 13:44:11   \n",
       "9  SUDO CREAM \\nPrice 4000 birr \\nTelegram https:... 2025-07-14 12:45:26   \n",
       "\n",
       "   has_media           media_type    sender_username  \n",
       "0      False                 None        tikvah_tena  \n",
       "1       True  MessageMediaWebPage        tikvah_tena  \n",
       "2      False                 None        tikvah_tena  \n",
       "3      False                 None        tikvah_tena  \n",
       "4       True    MessageMediaPhoto        tikvah_tena  \n",
       "5      False                 None        tikvah_tena  \n",
       "6      False                 None        tikvah_tena  \n",
       "7       True    MessageMediaPhoto        tikvah_tena  \n",
       "8      False                 None        tikvah_tena  \n",
       "9       True    MessageMediaPhoto  lobelia4cosmetics  "
      ]
     },
     "metadata": {},
     "output_type": "display_data"
    }
   ],
   "source": [
    "# Sample raw messages\n",
    "if raw_exists:\n",
    "    sample_query = \"\"\"\n",
    "    SELECT \n",
    "        message_id,\n",
    "        channel_name,\n",
    "        LEFT(message_text, 100) as message_preview,\n",
    "        message_date,\n",
    "        has_media,\n",
    "        media_type,\n",
    "        sender_username\n",
    "    FROM raw.telegram_messages \n",
    "    ORDER BY message_date DESC \n",
    "    LIMIT 10\n",
    "    \"\"\"\n",
    "    \n",
    "    sample_messages = pd.read_sql(sample_query, engine)\n",
    "    print(\"📝 Sample Messages:\")\n",
    "    display(sample_messages)"
   ]
  },
  {
   "cell_type": "markdown",
   "id": "4ac43e60",
   "metadata": {},
   "source": [
    "## dbt Models Analysis"
   ]
  },
  {
   "cell_type": "code",
   "execution_count": 6,
   "id": "002c08f2",
   "metadata": {},
   "outputs": [
    {
     "name": "stdout",
     "output_type": "stream",
     "text": [
      "📊 Staging Model Statistics:\n"
     ]
    },
    {
     "data": {
      "text/html": [
       "<div>\n",
       "<style scoped>\n",
       "    .dataframe tbody tr th:only-of-type {\n",
       "        vertical-align: middle;\n",
       "    }\n",
       "\n",
       "    .dataframe tbody tr th {\n",
       "        vertical-align: top;\n",
       "    }\n",
       "\n",
       "    .dataframe thead th {\n",
       "        text-align: right;\n",
       "    }\n",
       "</style>\n",
       "<table border=\"1\" class=\"dataframe\">\n",
       "  <thead>\n",
       "    <tr style=\"text-align: right;\">\n",
       "      <th></th>\n",
       "      <th>total_messages</th>\n",
       "      <th>unique_channels</th>\n",
       "      <th>messages_with_images</th>\n",
       "      <th>messages_with_media</th>\n",
       "      <th>image_percentage</th>\n",
       "    </tr>\n",
       "  </thead>\n",
       "  <tbody>\n",
       "    <tr>\n",
       "      <th>0</th>\n",
       "      <td>1974</td>\n",
       "      <td>3</td>\n",
       "      <td>1279</td>\n",
       "      <td>1393</td>\n",
       "      <td>64.79</td>\n",
       "    </tr>\n",
       "  </tbody>\n",
       "</table>\n",
       "</div>"
      ],
      "text/plain": [
       "   total_messages  unique_channels  messages_with_images  messages_with_media  \\\n",
       "0            1974                3                  1279                 1393   \n",
       "\n",
       "   image_percentage  \n",
       "0             64.79  "
      ]
     },
     "metadata": {},
     "output_type": "display_data"
    }
   ],
   "source": [
    "# Load staging data\n",
    "if staging_exists:\n",
    "    staging_query = \"\"\"\n",
    "    SELECT \n",
    "        COUNT(*) as total_messages,\n",
    "        COUNT(DISTINCT channel_name) as unique_channels,\n",
    "        COUNT(CASE WHEN has_image THEN 1 END) as messages_with_images,\n",
    "        COUNT(CASE WHEN has_media THEN 1 END) as messages_with_media,\n",
    "        ROUND(COUNT(CASE WHEN has_image THEN 1 END) * 100.0 / COUNT(*), 2) as image_percentage\n",
    "    FROM stg_telegram_messages\n",
    "    \"\"\"\n",
    "    \n",
    "    staging_stats = pd.read_sql(staging_query, engine)\n",
    "    print(\"📊 Staging Model Statistics:\")\n",
    "    display(staging_stats)\n",
    "else:\n",
    "    print(\"⚠️ Staging model not found. Please run 'dbt run' first.\")"
   ]
  },
  {
   "cell_type": "code",
   "execution_count": 7,
   "id": "afc4d178",
   "metadata": {},
   "outputs": [
    {
     "name": "stdout",
     "output_type": "stream",
     "text": [
      "📊 Channel Analysis:\n"
     ]
    },
    {
     "data": {
      "text/html": [
       "<div>\n",
       "<style scoped>\n",
       "    .dataframe tbody tr th:only-of-type {\n",
       "        vertical-align: middle;\n",
       "    }\n",
       "\n",
       "    .dataframe tbody tr th {\n",
       "        vertical-align: top;\n",
       "    }\n",
       "\n",
       "    .dataframe thead th {\n",
       "        text-align: right;\n",
       "    }\n",
       "</style>\n",
       "<table border=\"1\" class=\"dataframe\">\n",
       "  <thead>\n",
       "    <tr style=\"text-align: right;\">\n",
       "      <th></th>\n",
       "      <th>channel_name</th>\n",
       "      <th>chat_title</th>\n",
       "      <th>message_count</th>\n",
       "    </tr>\n",
       "  </thead>\n",
       "  <tbody>\n",
       "    <tr>\n",
       "      <th>0</th>\n",
       "      <td>lobelia4cosmetics</td>\n",
       "      <td>Lobelia pharmacy and cosmetics</td>\n",
       "      <td>965</td>\n",
       "    </tr>\n",
       "    <tr>\n",
       "      <th>1</th>\n",
       "      <td>tikvahpharma</td>\n",
       "      <td>Tikvah | Pharma</td>\n",
       "      <td>946</td>\n",
       "    </tr>\n",
       "    <tr>\n",
       "      <th>2</th>\n",
       "      <td>CheMed123</td>\n",
       "      <td>CheMed</td>\n",
       "      <td>63</td>\n",
       "    </tr>\n",
       "  </tbody>\n",
       "</table>\n",
       "</div>"
      ],
      "text/plain": [
       "        channel_name                      chat_title  message_count\n",
       "0  lobelia4cosmetics  Lobelia pharmacy and cosmetics            965\n",
       "1       tikvahpharma                 Tikvah | Pharma            946\n",
       "2          CheMed123                          CheMed             63"
      ]
     },
     "metadata": {},
     "output_type": "display_data"
    },
    {
     "data": {
      "image/png": "[encoded data removed]",
      "text/plain": [
       "<Figure size 1200x600 with 1 Axes>"
      ]
     },
     "metadata": {},
     "output_type": "display_data"
    }
   ],
   "source": [
    "# Channel analysis\n",
    "if dim_channels_exists:\n",
    "    channels_query = \"\"\"\n",
    "    SELECT \n",
    "    c.channel_name,\n",
    "    c.chat_title,\n",
    "    COUNT(*) as message_count\n",
    "FROM fct_messages f\n",
    "JOIN dim_channels c ON f.channel_id = c.channel_id\n",
    "GROUP BY c.channel_name, c.chat_title\n",
    "ORDER BY message_count DESC\n",
    "    \"\"\"\n",
    "    \n",
    "    channels_df = pd.read_sql(channels_query, engine)\n",
    "    print(\"📊 Channel Analysis:\")\n",
    "    display(channels_df)\n",
    "    \n",
    "    # Visualize channel distribution\n",
    "    plt.figure(figsize=(12, 6))\n",
    "    plt.bar(channels_df['channel_name'], channels_df['message_count'])\n",
    "    plt.title('Message Count by Channel')\n",
    "    plt.xlabel('Channel Name')\n",
    "    plt.ylabel('Message Count')\n",
    "    plt.xticks(rotation=45)\n",
    "    plt.tight_layout()\n",
    "    plt.show()"
   ]
  },
  {
   "cell_type": "markdown",
   "id": "18106ab6",
   "metadata": {},
   "source": [
    "## Temporal Analysis"
   ]
  },
  {
   "cell_type": "code",
   "execution_count": 8,
   "id": "5fd40fa6",
   "metadata": {},
   "outputs": [
    {
     "data": {
      "image/png": "[encoded data removed]",
      "text/plain": [
       "<Figure size 1500x1000 with 2 Axes>"
      ]
     },
     "metadata": {},
     "output_type": "display_data"
    }
   ],
   "source": [
    "# Daily message volume\n",
    "if fct_messages_exists:\n",
    "    daily_query = \"\"\"\n",
    "    SELECT \n",
    "        d.date_id,\n",
    "        d.day_name,\n",
    "        COUNT(*) as message_count,\n",
    "        COUNT(CASE WHEN f.has_image THEN 1 END) as messages_with_images\n",
    "    FROM fct_messages f\n",
    "    JOIN dim_dates d ON f.date_id = d.date_id\n",
    "    GROUP BY d.date_id, d.day_name\n",
    "    ORDER BY d.date_id\n",
    "    \"\"\"\n",
    "    \n",
    "    daily_df = pd.read_sql(daily_query, engine)\n",
    "    \n",
    "    # Convert date_id to datetime for plotting\n",
    "    daily_df['date'] = pd.to_datetime(daily_df['date_id'])\n",
    "    \n",
    "    # Plot daily message volume\n",
    "    fig, (ax1, ax2) = plt.subplots(2, 1, figsize=(15, 10))\n",
    "    \n",
    "    # Daily message count\n",
    "    ax1.plot(daily_df['date'], daily_df['message_count'], marker='o')\n",
    "    ax1.set_title('Daily Message Volume')\n",
    "    ax1.set_xlabel('Date')\n",
    "    ax1.set_ylabel('Message Count')\n",
    "    ax1.grid(True, alpha=0.3)\n",
    "    \n",
    "    # Messages with images\n",
    "    ax2.plot(daily_df['date'], daily_df['messages_with_images'], marker='s', color='orange')\n",
    "    ax2.set_title('Daily Messages with Images')\n",
    "    ax2.set_xlabel('Date')\n",
    "    ax2.set_ylabel('Messages with Images')\n",
    "    ax2.grid(True, alpha=0.3)\n",
    "    \n",
    "    plt.tight_layout()\n",
    "    plt.show()"
   ]
  },
  {
   "cell_type": "markdown",
   "id": "f9039d49",
   "metadata": {},
   "source": [
    "## Media Analysis"
   ]
  },
  {
   "cell_type": "code",
   "execution_count": 9,
   "id": "6fda292e",
   "metadata": {},
   "outputs": [
    {
     "name": "stdout",
     "output_type": "stream",
     "text": [
      "📊 Media Type Analysis:\n"
     ]
    },
    {
     "data": {
      "text/html": [
       "<div>\n",
       "<style scoped>\n",
       "    .dataframe tbody tr th:only-of-type {\n",
       "        vertical-align: middle;\n",
       "    }\n",
       "\n",
       "    .dataframe tbody tr th {\n",
       "        vertical-align: top;\n",
       "    }\n",
       "\n",
       "    .dataframe thead th {\n",
       "        text-align: right;\n",
       "    }\n",
       "</style>\n",
       "<table border=\"1\" class=\"dataframe\">\n",
       "  <thead>\n",
       "    <tr style=\"text-align: right;\">\n",
       "      <th></th>\n",
       "      <th>media_type</th>\n",
       "      <th>count</th>\n",
       "      <th>percentage</th>\n",
       "    </tr>\n",
       "  </thead>\n",
       "  <tbody>\n",
       "    <tr>\n",
       "      <th>0</th>\n",
       "      <td>MessageMediaPhoto</td>\n",
       "      <td>1272</td>\n",
       "      <td>64.44</td>\n",
       "    </tr>\n",
       "    <tr>\n",
       "      <th>1</th>\n",
       "      <td>MessageMediaWebPage</td>\n",
       "      <td>114</td>\n",
       "      <td>5.78</td>\n",
       "    </tr>\n",
       "    <tr>\n",
       "      <th>2</th>\n",
       "      <td>MessageMediaDocument</td>\n",
       "      <td>7</td>\n",
       "      <td>0.35</td>\n",
       "    </tr>\n",
       "  </tbody>\n",
       "</table>\n",
       "</div>"
      ],
      "text/plain": [
       "             media_type  count  percentage\n",
       "0     MessageMediaPhoto   1272       64.44\n",
       "1   MessageMediaWebPage    114        5.78\n",
       "2  MessageMediaDocument      7        0.35"
      ]
     },
     "metadata": {},
     "output_type": "display_data"
    },
    {
     "data": {
      "image/png": "[encoded data removed]",
      "text/plain": [
       "<Figure size 1000x800 with 1 Axes>"
      ]
     },
     "metadata": {},
     "output_type": "display_data"
    }
   ],
   "source": [
    "# Media type analysis\n",
    "if staging_exists:\n",
    "    media_query = \"\"\"\n",
    "    SELECT \n",
    "        media_type,\n",
    "        COUNT(*) as count,\n",
    "        ROUND(COUNT(*) * 100.0 / (SELECT COUNT(*) FROM stg_telegram_messages), 2) as percentage\n",
    "    FROM stg_telegram_messages\n",
    "    WHERE media_type IS NOT NULL\n",
    "    GROUP BY media_type\n",
    "    ORDER BY count DESC\n",
    "    \"\"\"\n",
    "    \n",
    "    media_df = pd.read_sql(media_query, engine)\n",
    "    print(\"📊 Media Type Analysis:\")\n",
    "    display(media_df)\n",
    "    \n",
    "    # Pie chart of media types\n",
    "    if not media_df.empty:\n",
    "        plt.figure(figsize=(10, 8))\n",
    "        plt.pie(media_df['count'], labels=media_df['media_type'], autopct='%1.1f%%')\n",
    "        plt.title('Distribution of Media Types')\n",
    "        plt.axis('equal')\n",
    "        plt.show()"
   ]
  },
  {
   "cell_type": "markdown",
   "id": "424a5b22",
   "metadata": {},
   "source": [
    "## Content Analysis"
   ]
  },
  {
   "cell_type": "code",
   "execution_count": 10,
   "id": "aa31ec70",
   "metadata": {},
   "outputs": [
    {
     "name": "stdout",
     "output_type": "stream",
     "text": [
      "📊 Message Length Analysis by Channel:\n"
     ]
    },
    {
     "data": {
      "text/html": [
       "<div>\n",
       "<style scoped>\n",
       "    .dataframe tbody tr th:only-of-type {\n",
       "        vertical-align: middle;\n",
       "    }\n",
       "\n",
       "    .dataframe tbody tr th {\n",
       "        vertical-align: top;\n",
       "    }\n",
       "\n",
       "    .dataframe thead th {\n",
       "        text-align: right;\n",
       "    }\n",
       "</style>\n",
       "<table border=\"1\" class=\"dataframe\">\n",
       "  <thead>\n",
       "    <tr style=\"text-align: right;\">\n",
       "      <th></th>\n",
       "      <th>channel_name</th>\n",
       "      <th>avg_message_length</th>\n",
       "      <th>min_message_length</th>\n",
       "      <th>max_message_length</th>\n",
       "      <th>message_count</th>\n",
       "    </tr>\n",
       "  </thead>\n",
       "  <tbody>\n",
       "    <tr>\n",
       "      <th>0</th>\n",
       "      <td>tikvahpharma</td>\n",
       "      <td>1057.812896</td>\n",
       "      <td>13</td>\n",
       "      <td>3989</td>\n",
       "      <td>946</td>\n",
       "    </tr>\n",
       "    <tr>\n",
       "      <th>1</th>\n",
       "      <td>lobelia4cosmetics</td>\n",
       "      <td>382.519171</td>\n",
       "      <td>340</td>\n",
       "      <td>434</td>\n",
       "      <td>965</td>\n",
       "    </tr>\n",
       "    <tr>\n",
       "      <th>2</th>\n",
       "      <td>CheMed123</td>\n",
       "      <td>218.269841</td>\n",
       "      <td>54</td>\n",
       "      <td>687</td>\n",
       "      <td>63</td>\n",
       "    </tr>\n",
       "  </tbody>\n",
       "</table>\n",
       "</div>"
      ],
      "text/plain": [
       "        channel_name  avg_message_length  min_message_length  \\\n",
       "0       tikvahpharma         1057.812896                  13   \n",
       "1  lobelia4cosmetics          382.519171                 340   \n",
       "2          CheMed123          218.269841                  54   \n",
       "\n",
       "   max_message_length  message_count  \n",
       "0                3989            946  \n",
       "1                 434            965  \n",
       "2                 687             63  "
      ]
     },
     "metadata": {},
     "output_type": "display_data"
    },
    {
     "data": {
      "image/png": "[encoded data removed]",
      "text/plain": [
       "<Figure size 1200x600 with 1 Axes>"
      ]
     },
     "metadata": {},
     "output_type": "display_data"
    }
   ],
   "source": [
    "# Message length analysis\n",
    "if staging_exists:\n",
    "    length_query = \"\"\"\n",
    "    SELECT \n",
    "        channel_name,\n",
    "        AVG(LENGTH(message_text)) as avg_message_length,\n",
    "        MIN(LENGTH(message_text)) as min_message_length,\n",
    "        MAX(LENGTH(message_text)) as max_message_length,\n",
    "        COUNT(*) as message_count\n",
    "    FROM stg_telegram_messages\n",
    "    WHERE message_text IS NOT NULL\n",
    "    GROUP BY channel_name\n",
    "    ORDER BY avg_message_length DESC\n",
    "    \"\"\"\n",
    "    \n",
    "    length_df = pd.read_sql(length_query, engine)\n",
    "    print(\"📊 Message Length Analysis by Channel:\")\n",
    "    display(length_df)\n",
    "    \n",
    "    # Visualize average message length\n",
    "    plt.figure(figsize=(12, 6))\n",
    "    plt.bar(length_df['channel_name'], length_df['avg_message_length'])\n",
    "    plt.title('Average Message Length by Channel')\n",
    "    plt.xlabel('Channel Name')\n",
    "    plt.ylabel('Average Message Length (characters)')\n",
    "    plt.xticks(rotation=45)\n",
    "    plt.tight_layout()\n",
    "    plt.show()"
   ]
  },
  {
   "cell_type": "markdown",
   "id": "1cb219e8",
   "metadata": {},
   "source": [
    "## Key Insights Dashboard"
   ]
  },
  {
   "cell_type": "code",
   "execution_count": 12,
   "id": "27db3bac",
   "metadata": {},
   "outputs": [
    {
     "data": {
      "application/vnd.plotly.v1+json": {
       "config": {
        "plotlyServerURL": "https://plot.ly"
       },
       "data": [
        {
         "domain": {
          "x": [
           0,
           0.45
          ],
          "y": [
           0.575,
           1
          ]
         },
         "mode": "number",
         "number": {
          "font": {
           "size": 60
          }
         },
         "title": {
          "text": "Total Messages"
         },
         "type": "indicator",
         "value": 1974
        },
        {
         "domain": {
          "x": [
           0.55,
           1
          ],
          "y": [
           0.575,
           1
          ]
         },
         "mode": "number",
         "number": {
          "font": {
           "size": 60
          }
         },
         "title": {
          "text": "Total Channels"
         },
         "type": "indicator",
         "value": 3
        },
        {
         "domain": {
          "x": [
           0,
           0.45
          ],
          "y": [
           0,
           0.425
          ]
         },
         "gauge": {
          "axis": {
           "range": [
            0,
            100
           ]
          }
         },
         "mode": "gauge+number",
         "number": {
          "font": {
           "size": 40
          }
         },
         "title": {
          "text": "Media Content %"
         },
         "type": "indicator",
         "value": 70.57
        },
        {
         "domain": {
          "x": [
           0.55,
           1
          ],
          "y": [
           0,
           0.425
          ]
         },
         "gauge": {
          "axis": {
           "range": [
            0,
            100
           ]
          }
         },
         "mode": "gauge+number",
         "number": {
          "font": {
           "size": 40
          }
         },
         "title": {
          "text": "Image Content %"
         },
         "type": "indicator",
         "value": 64.79
        }
       ],
       "layout": {
        "height": 800,
        "margin": {
         "b": 40,
         "l": 40,
         "r": 40,
         "t": 80
        },
        "template": {
         "data": {
          "bar": [
           {
            "error_x": {
             "color": "#2a3f5f"
            },
            "error_y": {
             "color": "#2a3f5f"
            },
            "marker": {
             "line": {
              "color": "#E5ECF6",
              "width": 0.5
             },
             "pattern": {
              "fillmode": "overlay",
              "size": 10,
              "solidity": 0.2
             }
            },
            "type": "bar"
           }
          ],
          "barpolar": [
           {
            "marker": {
             "line": {
              "color": "#E5ECF6",
              "width": 0.5
             },
             "pattern": {
              "fillmode": "overlay",
              "size": 10,
              "solidity": 0.2
             }
            },
            "type": "barpolar"
           }
          ],
          "carpet": [
           {
            "aaxis": {
             "endlinecolor": "#2a3f5f",
             "gridcolor": "white",
             "linecolor": "white",
             "minorgridcolor": "white",
             "startlinecolor": "#2a3f5f"
            },
            "baxis": {
             "endlinecolor": "#2a3f5f",
             "gridcolor": "white",
             "linecolor": "white",
             "minorgridcolor": "white",
             "startlinecolor": "#2a3f5f"
            },
            "type": "carpet"
           }
          ],
          "choropleth": [
           {
            "colorbar": {
             "outlinewidth": 0,
             "ticks": ""
            },
            "type": "choropleth"
           }
          ],
          "contour": [
           {
            "colorbar": {
             "outlinewidth": 0,
             "ticks": ""
            },
            "colorscale": [
             [
              0,
              "#0d0887"
             ],
             [
              0.1111111111111111,
              "#46039f"
             ],
             [
              0.2222222222222222,
              "#7201a8"
             ],
             [
              0.3333333333333333,
              "#9c179e"
             ],
             [
              0.4444444444444444,
              "#bd3786"
             ],
             [
              0.5555555555555556,
              "#d8576b"
             ],
             [
              0.6666666666666666,
              "#ed7953"
             ],
             [
              0.7777777777777778,
              "#fb9f3a"
             ],
             [
              0.8888888888888888,
              "#fdca26"
             ],
             [
              1,
              "#f0f921"
             ]
            ],
            "type": "contour"
           }
          ],
          "contourcarpet": [
           {
            "colorbar": {
             "outlinewidth": 0,
             "ticks": ""
            },
            "type": "contourcarpet"
           }
          ],
          "heatmap": [
           {
            "colorbar": {
             "outlinewidth": 0,
             "ticks": ""
            },
            "colorscale": [
             [
              0,
              "#0d0887"
             ],
             [
              0.1111111111111111,
              "#46039f"
             ],
             [
              0.2222222222222222,
              "#7201a8"
             ],
             [
              0.3333333333333333,
              "#9c179e"
             ],
             [
              0.4444444444444444,
              "#bd3786"
             ],
             [
              0.5555555555555556,
              "#d8576b"
             ],
             [
              0.6666666666666666,
              "#ed7953"
             ],
             [
              0.7777777777777778,
              "#fb9f3a"
             ],
             [
              0.8888888888888888,
              "#fdca26"
             ],
             [
              1,
              "#f0f921"
             ]
            ],
            "type": "heatmap"
           }
          ],
          "histogram": [
           {
            "marker": {
             "pattern": {
              "fillmode": "overlay",
              "size": 10,
              "solidity": 0.2
             }
            },
            "type": "histogram"
           }
          ],
          "histogram2d": [
           {
            "colorbar": {
             "outlinewidth": 0,
             "ticks": ""
            },
            "colorscale": [
             [
              0,
              "#0d0887"
             ],
             [
              0.1111111111111111,
              "#46039f"
             ],
             [
              0.2222222222222222,
              "#7201a8"
             ],
             [
              0.3333333333333333,
              "#9c179e"
             ],
             [
              0.4444444444444444,
              "#bd3786"
             ],
             [
              0.5555555555555556,
              "#d8576b"
             ],
             [
              0.6666666666666666,
              "#ed7953"
             ],
             [
              0.7777777777777778,
              "#fb9f3a"
             ],
             [
              0.8888888888888888,
              "#fdca26"
             ],
             [
              1,
              "#f0f921"
             ]
            ],
            "type": "histogram2d"
           }
          ],
          "histogram2dcontour": [
           {
            "colorbar": {
             "outlinewidth": 0,
             "ticks": ""
            },
            "colorscale": [
             [
              0,
              "#0d0887"
             ],
             [
              0.1111111111111111,
              "#46039f"
             ],
             [
              0.2222222222222222,
              "#7201a8"
             ],
             [
              0.3333333333333333,
              "#9c179e"
             ],
             [
              0.4444444444444444,
              "#bd3786"
             ],
             [
              0.5555555555555556,
              "#d8576b"
             ],
             [
              0.6666666666666666,
              "#ed7953"
             ],
             [
              0.7777777777777778,
              "#fb9f3a"
             ],
             [
              0.8888888888888888,
              "#fdca26"
             ],
             [
              1,
              "#f0f921"
             ]
            ],
            "type": "histogram2dcontour"
           }
          ],
          "mesh3d": [
           {
            "colorbar": {
             "outlinewidth": 0,
             "ticks": ""
            },
            "type": "mesh3d"
           }
          ],
          "parcoords": [
           {
            "line": {
             "colorbar": {
              "outlinewidth": 0,
              "ticks": ""
             }
            },
            "type": "parcoords"
           }
          ],
          "pie": [
           {
            "automargin": true,
            "type": "pie"
           }
          ],
          "scatter": [
           {
            "fillpattern": {
             "fillmode": "overlay",
             "size": 10,
             "solidity": 0.2
            },
            "type": "scatter"
           }
          ],
          "scatter3d": [
           {
            "line": {
             "colorbar": {
              "outlinewidth": 0,
              "ticks": ""
             }
            },
            "marker": {
             "colorbar": {
              "outlinewidth": 0,
              "ticks": ""
             }
            },
            "type": "scatter3d"
           }
          ],
          "scattercarpet": [
           {
            "marker": {
             "colorbar": {
              "outlinewidth": 0,
              "ticks": ""
             }
            },
            "type": "scattercarpet"
           }
          ],
          "scattergeo": [
           {
            "marker": {
             "colorbar": {
              "outlinewidth": 0,
              "ticks": ""
             }
            },
            "type": "scattergeo"
           }
          ],
          "scattergl": [
           {
            "marker": {
             "colorbar": {
              "outlinewidth": 0,
              "ticks": ""
             }
            },
            "type": "scattergl"
           }
          ],
          "scattermap": [
           {
            "marker": {
             "colorbar": {
              "outlinewidth": 0,
              "ticks": ""
             }
            },
            "type": "scattermap"
           }
          ],
          "scattermapbox": [
           {
            "marker": {
             "colorbar": {
              "outlinewidth": 0,
              "ticks": ""
             }
            },
            "type": "scattermapbox"
           }
          ],
          "scatterpolar": [
           {
            "marker": {
             "colorbar": {
              "outlinewidth": 0,
              "ticks": ""
             }
            },
            "type": "scatterpolar"
           }
          ],
          "scatterpolargl": [
           {
            "marker": {
             "colorbar": {
              "outlinewidth": 0,
              "ticks": ""
             }
            },
            "type": "scatterpolargl"
           }
          ],
          "scatterternary": [
           {
            "marker": {
             "colorbar": {
              "outlinewidth": 0,
              "ticks": ""
             }
            },
            "type": "scatterternary"
           }
          ],
          "surface": [
           {
            "colorbar": {
             "outlinewidth": 0,
             "ticks": ""
            },
            "colorscale": [
             [
              0,
              "#0d0887"
             ],
             [
              0.1111111111111111,
              "#46039f"
             ],
             [
              0.2222222222222222,
              "#7201a8"
             ],
             [
              0.3333333333333333,
              "#9c179e"
             ],
             [
              0.4444444444444444,
              "#bd3786"
             ],
             [
              0.5555555555555556,
              "#d8576b"
             ],
             [
              0.6666666666666666,
              "#ed7953"
             ],
             [
              0.7777777777777778,
              "#fb9f3a"
             ],
             [
              0.8888888888888888,
              "#fdca26"
             ],
             [
              1,
              "#f0f921"
             ]
            ],
            "type": "surface"
           }
          ],
          "table": [
           {
            "cells": {
             "fill": {
              "color": "#EBF0F8"
             },
             "line": {
              "color": "white"
             }
            },
            "header": {
             "fill": {
              "color": "#C8D4E3"
             },
             "line": {
              "color": "white"
             }
            },
            "type": "table"
           }
          ]
         },
         "layout": {
          "annotationdefaults": {
           "arrowcolor": "#2a3f5f",
           "arrowhead": 0,
           "arrowwidth": 1
          },
          "autotypenumbers": "strict",
          "coloraxis": {
           "colorbar": {
            "outlinewidth": 0,
            "ticks": ""
           }
          },
          "colorscale": {
           "diverging": [
            [
             0,
             "#8e0152"
            ],
            [
             0.1,
             "#c51b7d"
            ],
            [
             0.2,
             "#de77ae"
            ],
            [
             0.3,
             "#f1b6da"
            ],
            [
             0.4,
             "#fde0ef"
            ],
            [
             0.5,
             "#f7f7f7"
            ],
            [
             0.6,
             "#e6f5d0"
            ],
            [
             0.7,
             "#b8e186"
            ],
            [
             0.8,
             "#7fbc41"
            ],
            [
             0.9,
             "#4d9221"
            ],
            [
             1,
             "#276419"
            ]
           ],
           "sequential": [
            [
             0,
             "#0d0887"
            ],
            [
             0.1111111111111111,
             "#46039f"
            ],
            [
             0.2222222222222222,
             "#7201a8"
            ],
            [
             0.3333333333333333,
             "#9c179e"
            ],
            [
             0.4444444444444444,
             "#bd3786"
            ],
            [
             0.5555555555555556,
             "#d8576b"
            ],
            [
             0.6666666666666666,
             "#ed7953"
            ],
            [
             0.7777777777777778,
             "#fb9f3a"
            ],
            [
             0.8888888888888888,
             "#fdca26"
            ],
            [
             1,
             "#f0f921"
            ]
           ],
           "sequentialminus": [
            [
             0,
             "#0d0887"
            ],
            [
             0.1111111111111111,
             "#46039f"
            ],
            [
             0.2222222222222222,
             "#7201a8"
            ],
            [
             0.3333333333333333,
             "#9c179e"
            ],
            [
             0.4444444444444444,
             "#bd3786"
            ],
            [
             0.5555555555555556,
             "#d8576b"
            ],
            [
             0.6666666666666666,
             "#ed7953"
            ],
            [
             0.7777777777777778,
             "#fb9f3a"
            ],
            [
             0.8888888888888888,
             "#fdca26"
            ],
            [
             1,
             "#f0f921"
            ]
           ]
          },
          "colorway": [
           "#636efa",
           "#EF553B",
           "#00cc96",
           "#ab63fa",
           "#FFA15A",
           "#19d3f3",
           "#FF6692",
           "#B6E880",
           "#FF97FF",
           "#FECB52"
          ],
          "font": {
           "color": "#2a3f5f"
          },
          "geo": {
           "bgcolor": "white",
           "lakecolor": "white",
           "landcolor": "#E5ECF6",
           "showlakes": true,
           "showland": true,
           "subunitcolor": "white"
          },
          "hoverlabel": {
           "align": "left"
          },
          "hovermode": "closest",
          "mapbox": {
           "style": "light"
          },
          "paper_bgcolor": "white",
          "plot_bgcolor": "#E5ECF6",
          "polar": {
           "angularaxis": {
            "gridcolor": "white",
            "linecolor": "white",
            "ticks": ""
           },
           "bgcolor": "#E5ECF6",
           "radialaxis": {
            "gridcolor": "white",
            "linecolor": "white",
            "ticks": ""
           }
          },
          "scene": {
           "xaxis": {
            "backgroundcolor": "#E5ECF6",
            "gridcolor": "white",
            "gridwidth": 2,
            "linecolor": "white",
            "showbackground": true,
            "ticks": "",
            "zerolinecolor": "white"
           },
           "yaxis": {
            "backgroundcolor": "#E5ECF6",
            "gridcolor": "white",
            "gridwidth": 2,
            "linecolor": "white",
            "showbackground": true,
            "ticks": "",
            "zerolinecolor": "white"
           },
           "zaxis": {
            "backgroundcolor": "#E5ECF6",
            "gridcolor": "white",
            "gridwidth": 2,
            "linecolor": "white",
            "showbackground": true,
            "ticks": "",
            "zerolinecolor": "white"
           }
          },
          "shapedefaults": {
           "line": {
            "color": "#2a3f5f"
           }
          },
          "ternary": {
           "aaxis": {
            "gridcolor": "white",
            "linecolor": "white",
            "ticks": ""
           },
           "baxis": {
            "gridcolor": "white",
            "linecolor": "white",
            "ticks": ""
           },
           "bgcolor": "#E5ECF6",
           "caxis": {
            "gridcolor": "white",
            "linecolor": "white",
            "ticks": ""
           }
          },
          "title": {
           "x": 0.05
          },
          "xaxis": {
           "automargin": true,
           "gridcolor": "white",
           "linecolor": "white",
           "ticks": "",
           "title": {
            "standoff": 15
           },
           "zerolinecolor": "white",
           "zerolinewidth": 2
          },
          "yaxis": {
           "automargin": true,
           "gridcolor": "white",
           "linecolor": "white",
           "ticks": "",
           "title": {
            "standoff": 15
           },
           "zerolinecolor": "white",
           "zerolinewidth": 2
          }
         }
        },
        "title": {
         "text": "Telegram Data Analytics Dashboard"
        },
        "width": 1200
       }
      }
     },
     "metadata": {},
     "output_type": "display_data"
    }
   ],
   "source": [
    "fig = make_subplots(\n",
    "    rows=2, cols=2,\n",
    "    specs=[[{\"type\": \"indicator\"}, {\"type\": \"indicator\"}],\n",
    "           [{\"type\": \"indicator\"}, {\"type\": \"indicator\"}]],\n",
    "    # Remove subplot_titles to avoid overlap\n",
    ")\n",
    "\n",
    "# Total messages\n",
    "fig.add_trace(\n",
    "    go.Indicator(\n",
    "        mode=\"number\",\n",
    "        value=metrics['total_messages'].iloc[0],\n",
    "        title={\"text\": \"Total Messages\"},\n",
    "        number={'font': {'size': 60}},\n",
    "        domain={'x': [0, 0.45], 'y': [0.55, 1]}\n",
    "    ),\n",
    "    row=1, col=1\n",
    ")\n",
    "\n",
    "# Total channels\n",
    "fig.add_trace(\n",
    "    go.Indicator(\n",
    "        mode=\"number\",\n",
    "        value=metrics['total_channels'].iloc[0],\n",
    "        title={\"text\": \"Total Channels\"},\n",
    "        number={'font': {'size': 60}},\n",
    "        domain={'x': [0.55, 1], 'y': [0.55, 1]}\n",
    "    ),\n",
    "    row=1, col=2\n",
    ")\n",
    "\n",
    "# Media percentage\n",
    "fig.add_trace(\n",
    "    go.Indicator(\n",
    "        mode=\"gauge+number\",\n",
    "        value=metrics['media_percentage'].iloc[0],\n",
    "        title={\"text\": \"Media Content %\"},\n",
    "        gauge={'axis': {'range': [0, 100]}},\n",
    "        number={'font': {'size': 40}},\n",
    "        domain={'x': [0, 0.45], 'y': [0, 0.45]}\n",
    "    ),\n",
    "    row=2, col=1\n",
    ")\n",
    "\n",
    "# Image percentage\n",
    "fig.add_trace(\n",
    "    go.Indicator(\n",
    "        mode=\"gauge+number\",\n",
    "        value=metrics['image_percentage'].iloc[0],\n",
    "        title={\"text\": \"Image Content %\"},\n",
    "        gauge={'axis': {'range': [0, 100]}},\n",
    "        number={'font': {'size': 40}},\n",
    "        domain={'x': [0.55, 1], 'y': [0, 0.45]}\n",
    "    ),\n",
    "    row=2, col=2\n",
    ")\n",
    "\n",
    "fig.update_layout(\n",
    "    height=800, width=1200,\n",
    "    title_text=\"Telegram Data Analytics Dashboard\",\n",
    "    margin=dict(t=80, b=40, l=40, r=40)\n",
    ")\n",
    "fig.show()"
   ]
  },
  {
   "cell_type": "markdown",
   "id": "ebb33d9b",
   "metadata": {},
   "source": [
    "## Advanced Analytics"
   ]
  },
  {
   "cell_type": "code",
   "execution_count": 13,
   "id": "ed00bae3",
   "metadata": {},
   "outputs": [
    {
     "name": "stdout",
     "output_type": "stream",
     "text": [
      "�� Channel Engagement Analysis:\n"
     ]
    },
    {
     "data": {
      "text/html": [
       "<div>\n",
       "<style scoped>\n",
       "    .dataframe tbody tr th:only-of-type {\n",
       "        vertical-align: middle;\n",
       "    }\n",
       "\n",
       "    .dataframe tbody tr th {\n",
       "        vertical-align: top;\n",
       "    }\n",
       "\n",
       "    .dataframe thead th {\n",
       "        text-align: right;\n",
       "    }\n",
       "</style>\n",
       "<table border=\"1\" class=\"dataframe\">\n",
       "  <thead>\n",
       "    <tr style=\"text-align: right;\">\n",
       "      <th></th>\n",
       "      <th>channel_name</th>\n",
       "      <th>total_messages</th>\n",
       "      <th>messages_with_images</th>\n",
       "      <th>messages_with_media</th>\n",
       "      <th>image_engagement</th>\n",
       "      <th>media_engagement</th>\n",
       "      <th>avg_message_length</th>\n",
       "    </tr>\n",
       "  </thead>\n",
       "  <tbody>\n",
       "    <tr>\n",
       "      <th>0</th>\n",
       "      <td>lobelia4cosmetics</td>\n",
       "      <td>965</td>\n",
       "      <td>965</td>\n",
       "      <td>965</td>\n",
       "      <td>100.00</td>\n",
       "      <td>100.00</td>\n",
       "      <td>382.519171</td>\n",
       "    </tr>\n",
       "    <tr>\n",
       "      <th>1</th>\n",
       "      <td>tikvahpharma</td>\n",
       "      <td>946</td>\n",
       "      <td>253</td>\n",
       "      <td>365</td>\n",
       "      <td>26.74</td>\n",
       "      <td>38.58</td>\n",
       "      <td>1057.812896</td>\n",
       "    </tr>\n",
       "    <tr>\n",
       "      <th>2</th>\n",
       "      <td>CheMed123</td>\n",
       "      <td>63</td>\n",
       "      <td>61</td>\n",
       "      <td>63</td>\n",
       "      <td>96.83</td>\n",
       "      <td>100.00</td>\n",
       "      <td>218.269841</td>\n",
       "    </tr>\n",
       "  </tbody>\n",
       "</table>\n",
       "</div>"
      ],
      "text/plain": [
       "        channel_name  total_messages  messages_with_images  \\\n",
       "0  lobelia4cosmetics             965                   965   \n",
       "1       tikvahpharma             946                   253   \n",
       "2          CheMed123              63                    61   \n",
       "\n",
       "   messages_with_media  image_engagement  media_engagement  avg_message_length  \n",
       "0                  965            100.00            100.00          382.519171  \n",
       "1                  365             26.74             38.58         1057.812896  \n",
       "2                   63             96.83            100.00          218.269841  "
      ]
     },
     "metadata": {},
     "output_type": "display_data"
    },
    {
     "data": {
      "image/png": "[encoded data removed]",
      "text/plain": [
       "<Figure size 1000x800 with 2 Axes>"
      ]
     },
     "metadata": {},
     "output_type": "display_data"
    }
   ],
   "source": [
    "# Channel engagement analysis\n",
    "if fct_messages_exists:\n",
    "    engagement_query = \"\"\"\n",
    "    SELECT \n",
    "        c.channel_name,\n",
    "        COUNT(*) as total_messages,\n",
    "        COUNT(CASE WHEN f.has_image THEN 1 END) as messages_with_images,\n",
    "        COUNT(CASE WHEN f.has_media THEN 1 END) as messages_with_media,\n",
    "        ROUND(COUNT(CASE WHEN f.has_image THEN 1 END) * 100.0 / COUNT(*), 2) as image_engagement,\n",
    "        ROUND(COUNT(CASE WHEN f.has_media THEN 1 END) * 100.0 / COUNT(*), 2) as media_engagement,\n",
    "        AVG(LENGTH(f.message_text)) as avg_message_length\n",
    "    FROM fct_messages f\n",
    "    JOIN dim_channels c ON f.channel_id = c.channel_id\n",
    "    WHERE f.message_text IS NOT NULL\n",
    "    GROUP BY c.channel_name\n",
    "    ORDER BY total_messages DESC\n",
    "    \"\"\"\n",
    "    \n",
    "    engagement_df = pd.read_sql(engagement_query, engine)\n",
    "    print(\"�� Channel Engagement Analysis:\")\n",
    "    display(engagement_df)\n",
    "    \n",
    "    # Create correlation heatmap\n",
    "    correlation_cols = ['total_messages', 'messages_with_images', 'messages_with_media', 'avg_message_length']\n",
    "    correlation_df = engagement_df[correlation_cols].corr()\n",
    "    \n",
    "    plt.figure(figsize=(10, 8))\n",
    "    sns.heatmap(correlation_df, annot=True, cmap='coolwarm', center=0, square=True)\n",
    "    plt.title('Correlation Matrix - Channel Metrics')\n",
    "    plt.tight_layout()\n",
    "    plt.show()"
   ]
  },
  {
   "cell_type": "markdown",
   "id": "e3cd81a2",
   "metadata": {},
   "source": [
    "## Data Quality Checks"
   ]
  },
  {
   "cell_type": "code",
   "execution_count": 14,
   "id": "bb746b55",
   "metadata": {},
   "outputs": [
    {
     "name": "stdout",
     "output_type": "stream",
     "text": [
      "🔍 Data Quality Metrics:\n"
     ]
    },
    {
     "data": {
      "text/html": [
       "<div>\n",
       "<style scoped>\n",
       "    .dataframe tbody tr th:only-of-type {\n",
       "        vertical-align: middle;\n",
       "    }\n",
       "\n",
       "    .dataframe tbody tr th {\n",
       "        vertical-align: top;\n",
       "    }\n",
       "\n",
       "    .dataframe thead th {\n",
       "        text-align: right;\n",
       "    }\n",
       "</style>\n",
       "<table border=\"1\" class=\"dataframe\">\n",
       "  <thead>\n",
       "    <tr style=\"text-align: right;\">\n",
       "      <th></th>\n",
       "      <th>metric</th>\n",
       "      <th>value</th>\n",
       "    </tr>\n",
       "  </thead>\n",
       "  <tbody>\n",
       "    <tr>\n",
       "      <th>0</th>\n",
       "      <td>Total Messages</td>\n",
       "      <td>1974</td>\n",
       "    </tr>\n",
       "    <tr>\n",
       "      <th>1</th>\n",
       "      <td>Messages with Text</td>\n",
       "      <td>1974</td>\n",
       "    </tr>\n",
       "    <tr>\n",
       "      <th>2</th>\n",
       "      <td>Messages with Channel Name</td>\n",
       "      <td>1974</td>\n",
       "    </tr>\n",
       "    <tr>\n",
       "      <th>3</th>\n",
       "      <td>Messages with Date</td>\n",
       "      <td>1974</td>\n",
       "    </tr>\n",
       "    <tr>\n",
       "      <th>4</th>\n",
       "      <td>Messages with Sender Info</td>\n",
       "      <td>1974</td>\n",
       "    </tr>\n",
       "  </tbody>\n",
       "</table>\n",
       "</div>"
      ],
      "text/plain": [
       "                       metric  value\n",
       "0              Total Messages   1974\n",
       "1          Messages with Text   1974\n",
       "2  Messages with Channel Name   1974\n",
       "3          Messages with Date   1974\n",
       "4   Messages with Sender Info   1974"
      ]
     },
     "metadata": {},
     "output_type": "display_data"
    },
    {
     "data": {
      "image/png": "[encoded data removed]",
      "text/plain": [
       "<Figure size 1200x600 with 1 Axes>"
      ]
     },
     "metadata": {},
     "output_type": "display_data"
    }
   ],
   "source": [
    "# Data quality analysis\n",
    "if staging_exists:\n",
    "    quality_query = \"\"\"\n",
    "    SELECT \n",
    "        'Total Messages' as metric,\n",
    "        COUNT(*) as value\n",
    "    FROM stg_telegram_messages\n",
    "    UNION ALL\n",
    "    SELECT \n",
    "        'Messages with Text' as metric,\n",
    "        COUNT(*) as value\n",
    "    FROM stg_telegram_messages\n",
    "    WHERE message_text IS NOT NULL AND LENGTH(message_text) > 0\n",
    "    UNION ALL\n",
    "    SELECT \n",
    "        'Messages with Channel Name' as metric,\n",
    "        COUNT(*) as value\n",
    "    FROM stg_telegram_messages\n",
    "    WHERE channel_name IS NOT NULL\n",
    "    UNION ALL\n",
    "    SELECT \n",
    "        'Messages with Date' as metric,\n",
    "        COUNT(*) as value\n",
    "    FROM stg_telegram_messages\n",
    "    WHERE message_date IS NOT NULL\n",
    "    UNION ALL\n",
    "    SELECT \n",
    "        'Messages with Sender Info' as metric,\n",
    "        COUNT(*) as value\n",
    "    FROM stg_telegram_messages\n",
    "    WHERE sender_username IS NOT NULL OR sender_id IS NOT NULL\n",
    "    \"\"\"\n",
    "    \n",
    "    quality_df = pd.read_sql(quality_query, engine)\n",
    "    print(\"🔍 Data Quality Metrics:\")\n",
    "    display(quality_df)\n",
    "    \n",
    "    # Calculate completeness percentages\n",
    "    total_messages = quality_df[quality_df['metric'] == 'Total Messages']['value'].iloc[0]\n",
    "    quality_df['completeness_percentage'] = (quality_df['value'] / total_messages * 100).round(2)\n",
    "    \n",
    "    # Visualize data quality\n",
    "    plt.figure(figsize=(12, 6))\n",
    "    bars = plt.bar(quality_df['metric'], quality_df['completeness_percentage'])\n",
    "    plt.title('Data Completeness by Field')\n",
    "    plt.xlabel('Field')\n",
    "    plt.ylabel('Completeness (%)')\n",
    "    plt.xticks(rotation=45)\n",
    "    \n",
    "    # Add value labels on bars\n",
    "    for bar, value in zip(bars, quality_df['completeness_percentage']):\n",
    "        plt.text(bar.get_x() + bar.get_width()/2, bar.get_height() + 1, \n",
    "                f'{value}%', ha='center', va='bottom')\n",
    "    \n",
    "    plt.tight_layout()\n",
    "    plt.show()"
   ]
  },
  {
   "cell_type": "markdown",
   "id": "368d9014",
   "metadata": {},
   "source": [
    "## 📝 Summary and Recommendations"
   ]
  },
  {
   "cell_type": "code",
   "execution_count": 15,
   "id": "44548c8a",
   "metadata": {},
   "outputs": [
    {
     "name": "stdout",
     "output_type": "stream",
     "text": [
      "📊 TELEGRAM DATA ANALYSIS SUMMARY\n",
      "==================================================\n",
      "Total Messages: 1,974\n",
      "Total Channels: 3\n",
      "Messages with Images: 1,279 (64.8%)\n",
      "Messages with Media: 1,393 (70.6%)\n",
      "Date Range: 2022-09-05 09:57:09 to 2025-07-14 18:27:36\n",
      "Active Days: 103\n",
      "==================================================\n",
      "\n",
      "🎯 KEY INSIGHTS:\n",
      "• Data pipeline successfully processes Telegram messages\n",
      "• dbt models provide structured analytics-ready data\n",
      "• Multiple channels with varying engagement patterns\n",
      "• Rich media content including images and documents\n",
      "\n",
      "📈 RECOMMENDATIONS:\n",
      "• Monitor data quality and completeness regularly\n",
      "• Add more sophisticated content analysis (NLP)\n",
      "• Implement real-time data processing\n",
      "• Create automated alerts for data anomalies\n",
      "• Develop predictive models for engagement patterns\n"
     ]
    }
   ],
   "source": [
    "# Generate summary insights\n",
    "if fct_messages_exists:\n",
    "    summary_query = \"\"\"\n",
    "    SELECT \n",
    "        COUNT(*) as total_messages,\n",
    "        COUNT(DISTINCT channel_id) as total_channels,\n",
    "        COUNT(CASE WHEN has_image THEN 1 END) as messages_with_images,\n",
    "        COUNT(CASE WHEN has_media THEN 1 END) as messages_with_media,\n",
    "        MIN(message_date) as earliest_message,\n",
    "        MAX(message_date) as latest_message,\n",
    "        COUNT(DISTINCT DATE(message_date)) as active_days\n",
    "    FROM fct_messages\n",
    "    \"\"\"\n",
    "    \n",
    "    summary = pd.read_sql(summary_query, engine)\n",
    "    \n",
    "    print(\"📊 TELEGRAM DATA ANALYSIS SUMMARY\")\n",
    "    print(\"=\" * 50)\n",
    "    print(f\"Total Messages: {summary['total_messages'].iloc[0]:,}\")\n",
    "    print(f\"Total Channels: {summary['total_channels'].iloc[0]}\")\n",
    "    print(f\"Messages with Images: {summary['messages_with_images'].iloc[0]:,} ({summary['messages_with_images'].iloc[0]/summary['total_messages'].iloc[0]*100:.1f}%)\")\n",
    "    print(f\"Messages with Media: {summary['messages_with_media'].iloc[0]:,} ({summary['messages_with_media'].iloc[0]/summary['total_messages'].iloc[0]*100:.1f}%)\")\n",
    "    print(f\"Date Range: {summary['earliest_message'].iloc[0]} to {summary['latest_message'].iloc[0]}\")\n",
    "    print(f\"Active Days: {summary['active_days'].iloc[0]}\")\n",
    "    print(\"=\" * 50)\n",
    "    \n",
    "    print(\"\\n🎯 KEY INSIGHTS:\")\n",
    "    print(\"• Data pipeline successfully processes Telegram messages\")\n",
    "    print(\"• dbt models provide structured analytics-ready data\")\n",
    "    print(\"• Multiple channels with varying engagement patterns\")\n",
    "    print(\"• Rich media content including images and documents\")\n",
    "    \n",
    "    print(\"\\n📈 RECOMMENDATIONS:\")\n",
    "    print(\"• Monitor data quality and completeness regularly\")\n",
    "    print(\"• Add more sophisticated content analysis (NLP)\")\n",
    "    print(\"• Implement real-time data processing\")\n",
    "    print(\"• Create automated alerts for data anomalies\")\n",
    "    print(\"• Develop predictive models for engagement patterns\")"
   ]
  },
  {
   "cell_type": "markdown",
   "id": "96721e3c",
   "metadata": {},
   "source": [
    "## 🚀 Next Steps\n",
    "\n",
    "This notebook demonstrates a comprehensive analysis of your Telegram data pipeline. Here are some next steps you can take:\n",
    "\n",
    "1. **Run dbt models**: Execute `dbt run` to create the analytics tables\n",
    "2. **Add more visualizations**: Create interactive dashboards with Plotly\n",
    "3. **Implement NLP**: Add sentiment analysis and topic modeling\n",
    "4. **Set up monitoring**: Create automated data quality checks\n",
    "5. **Build predictive models**: Use the data for forecasting and insights\n",
    "\n",
    "The dbt models provide a solid foundation for advanced analytics and machine learning applications."
   ]
  }
 ],
 "metadata": {
  "kernelspec": {
   "display_name": "venv312",
   "language": "python",
   "name": "python3"
  },
  "language_info": {
   "codemirror_mode": {
    "name": "ipython",
    "version": 3
   },
   "file_extension": ".py",
   "mimetype": "text/x-python",
   "name": "python",
   "nbconvert_exporter": "python",
   "pygments_lexer": "ipython3",
   "version": "3.12.10"
  }
 },
 "nbformat": 4,
 "nbformat_minor": 5
}
